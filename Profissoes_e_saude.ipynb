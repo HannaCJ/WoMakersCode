{
  "cells": [
    {
      "cell_type": "code",
      "execution_count": 6,
      "metadata": {
        "id": "BYQ-HOTNPI3z"
      },
      "outputs": [],
      "source": [
        "import pandas as pd\n",
        "import numpy as np\n",
        "sono = pd.read_csv(r\"C:\\Users\\hanna\\OneDrive\\Área de Trabalho\\WomakersCode\\1KBtJf20QHGyrNOTEGeq_saude_do_sono_estilo_vida.csv\")"
      ]
    },
    {
      "cell_type": "code",
      "execution_count": 7,
      "metadata": {
        "colab": {
          "base_uri": "https://localhost:8080/",
          "height": 856
        },
        "id": "xJHovraVUFCX",
        "outputId": "5688a181-0d95-441c-8d61-f03a496fff63"
      },
      "outputs": [
        {
          "name": "stdout",
          "output_type": "stream",
          "text": [
            "<class 'pandas.core.frame.DataFrame'>\n",
            "RangeIndex: 373 entries, 0 to 372\n",
            "Data columns (total 13 columns):\n",
            " #   Column                     Non-Null Count  Dtype  \n",
            "---  ------                     --------------  -----  \n",
            " 0   ID                         373 non-null    int64  \n",
            " 1   Gênero                     373 non-null    object \n",
            " 2   Idade                      373 non-null    int64  \n",
            " 3   Ocupação                   373 non-null    object \n",
            " 4   Duração do sono            373 non-null    float64\n",
            " 5   Qualidade do sono          373 non-null    int64  \n",
            " 6   Nível de atividade física  373 non-null    int64  \n",
            " 7   Nível de estresse          373 non-null    int64  \n",
            " 8   Categoria BMI              373 non-null    object \n",
            " 9   Pressão sanguíneaaaa       373 non-null    object \n",
            " 10  Frequência cardíaca        373 non-null    int64  \n",
            " 11  Passos diários             373 non-null    int64  \n",
            " 12  Distúrbio do sono          373 non-null    object \n",
            "dtypes: float64(1), int64(7), object(5)\n",
            "memory usage: 38.0+ KB\n"
          ]
        },
        {
          "data": {
            "text/plain": [
              "ID                           0\n",
              "Gênero                       0\n",
              "Idade                        0\n",
              "Ocupação                     0\n",
              "Duração do sono              0\n",
              "Qualidade do sono            0\n",
              "Nível de atividade física    0\n",
              "Nível de estresse            0\n",
              "Categoria BMI                0\n",
              "Pressão sanguíneaaaa         0\n",
              "Frequência cardíaca          0\n",
              "Passos diários               0\n",
              "Distúrbio do sono            0\n",
              "dtype: int64"
            ]
          },
          "execution_count": 7,
          "metadata": {},
          "output_type": "execute_result"
        }
      ],
      "source": [
        "sono.info()\n",
        "sono.isna().sum() #não tem valor na"
      ]
    },
    {
      "cell_type": "markdown",
      "metadata": {
        "id": "Q6cULy0LPr77"
      },
      "source": [
        " 1. Ao visualizar a base você percebeu que seria melhor alterar o nome de\n",
        " algumas colunas. Mude o ‘ID’ para ‘Identificador’, corrija o nome da\n",
        " coluna que indica a pressão sanguínea, mude a coluna ‘Ocupação’ para\n",
        " ‘Profissão’, a coluna ‘Categoria BMI’ está em parte em inglês, substitua\n",
        " para ‘Categoria IMC’"
      ]
    },
    {
      "cell_type": "code",
      "execution_count": 8,
      "metadata": {
        "colab": {
          "base_uri": "https://localhost:8080/",
          "height": 258
        },
        "id": "-bkfW04rfLb-",
        "outputId": "451c88fa-63fe-4610-feb0-907e9449135e"
      },
      "outputs": [
        {
          "data": {
            "text/html": [
              "<div>\n",
              "<style scoped>\n",
              "    .dataframe tbody tr th:only-of-type {\n",
              "        vertical-align: middle;\n",
              "    }\n",
              "\n",
              "    .dataframe tbody tr th {\n",
              "        vertical-align: top;\n",
              "    }\n",
              "\n",
              "    .dataframe thead th {\n",
              "        text-align: right;\n",
              "    }\n",
              "</style>\n",
              "<table border=\"1\" class=\"dataframe\">\n",
              "  <thead>\n",
              "    <tr style=\"text-align: right;\">\n",
              "      <th></th>\n",
              "      <th>ID</th>\n",
              "      <th>Gênero</th>\n",
              "      <th>Idade</th>\n",
              "      <th>Ocupação</th>\n",
              "      <th>Duração do sono</th>\n",
              "      <th>Qualidade do sono</th>\n",
              "      <th>Nível de atividade física</th>\n",
              "      <th>Nível de estresse</th>\n",
              "      <th>Categoria BMI</th>\n",
              "      <th>Pressão sanguíneaaaa</th>\n",
              "      <th>Frequência cardíaca</th>\n",
              "      <th>Passos diários</th>\n",
              "      <th>Distúrbio do sono</th>\n",
              "    </tr>\n",
              "  </thead>\n",
              "  <tbody>\n",
              "    <tr>\n",
              "      <th>0</th>\n",
              "      <td>1</td>\n",
              "      <td>Homem</td>\n",
              "      <td>27</td>\n",
              "      <td>Eng. de Software</td>\n",
              "      <td>6.1</td>\n",
              "      <td>6</td>\n",
              "      <td>42</td>\n",
              "      <td>6</td>\n",
              "      <td>Sobrepeso</td>\n",
              "      <td>126/83</td>\n",
              "      <td>77</td>\n",
              "      <td>4200</td>\n",
              "      <td>Nenhuma</td>\n",
              "    </tr>\n",
              "    <tr>\n",
              "      <th>1</th>\n",
              "      <td>2</td>\n",
              "      <td>Homem</td>\n",
              "      <td>28</td>\n",
              "      <td>Médico(a)</td>\n",
              "      <td>6.2</td>\n",
              "      <td>6</td>\n",
              "      <td>60</td>\n",
              "      <td>8</td>\n",
              "      <td>Normal</td>\n",
              "      <td>125/80</td>\n",
              "      <td>75</td>\n",
              "      <td>10000</td>\n",
              "      <td>Nenhuma</td>\n",
              "    </tr>\n",
              "    <tr>\n",
              "      <th>2</th>\n",
              "      <td>3</td>\n",
              "      <td>Homem</td>\n",
              "      <td>28</td>\n",
              "      <td>Médico(a)</td>\n",
              "      <td>6.2</td>\n",
              "      <td>6</td>\n",
              "      <td>60</td>\n",
              "      <td>8</td>\n",
              "      <td>Normal</td>\n",
              "      <td>125/80</td>\n",
              "      <td>75</td>\n",
              "      <td>10000</td>\n",
              "      <td>Nenhuma</td>\n",
              "    </tr>\n",
              "    <tr>\n",
              "      <th>3</th>\n",
              "      <td>4</td>\n",
              "      <td>Homem</td>\n",
              "      <td>28</td>\n",
              "      <td>Representante de Vendas</td>\n",
              "      <td>5.9</td>\n",
              "      <td>4</td>\n",
              "      <td>30</td>\n",
              "      <td>8</td>\n",
              "      <td>Obesidade</td>\n",
              "      <td>140/90</td>\n",
              "      <td>85</td>\n",
              "      <td>3000</td>\n",
              "      <td>Apneia do sono</td>\n",
              "    </tr>\n",
              "    <tr>\n",
              "      <th>4</th>\n",
              "      <td>5</td>\n",
              "      <td>Homem</td>\n",
              "      <td>28</td>\n",
              "      <td>Representante de Vendas</td>\n",
              "      <td>5.9</td>\n",
              "      <td>4</td>\n",
              "      <td>30</td>\n",
              "      <td>8</td>\n",
              "      <td>Obesidade</td>\n",
              "      <td>140/90</td>\n",
              "      <td>85</td>\n",
              "      <td>3000</td>\n",
              "      <td>Apneia do sono</td>\n",
              "    </tr>\n",
              "  </tbody>\n",
              "</table>\n",
              "</div>"
            ],
            "text/plain": [
              "   ID Gênero  Idade                 Ocupação  Duração do sono  \\\n",
              "0   1  Homem     27         Eng. de Software              6.1   \n",
              "1   2  Homem     28                Médico(a)              6.2   \n",
              "2   3  Homem     28                Médico(a)              6.2   \n",
              "3   4  Homem     28  Representante de Vendas              5.9   \n",
              "4   5  Homem     28  Representante de Vendas              5.9   \n",
              "\n",
              "   Qualidade do sono  Nível de atividade física  Nível de estresse  \\\n",
              "0                  6                         42                  6   \n",
              "1                  6                         60                  8   \n",
              "2                  6                         60                  8   \n",
              "3                  4                         30                  8   \n",
              "4                  4                         30                  8   \n",
              "\n",
              "  Categoria BMI Pressão sanguíneaaaa  Frequência cardíaca  Passos diários  \\\n",
              "0     Sobrepeso               126/83                   77            4200   \n",
              "1        Normal               125/80                   75           10000   \n",
              "2        Normal               125/80                   75           10000   \n",
              "3     Obesidade               140/90                   85            3000   \n",
              "4     Obesidade               140/90                   85            3000   \n",
              "\n",
              "  Distúrbio do sono  \n",
              "0           Nenhuma  \n",
              "1           Nenhuma  \n",
              "2           Nenhuma  \n",
              "3    Apneia do sono  \n",
              "4    Apneia do sono  "
            ]
          },
          "execution_count": 8,
          "metadata": {},
          "output_type": "execute_result"
        }
      ],
      "source": [
        "sono.head()"
      ]
    },
    {
      "cell_type": "code",
      "execution_count": 9,
      "metadata": {
        "colab": {
          "base_uri": "https://localhost:8080/"
        },
        "id": "AVq3V4TeRHdx",
        "outputId": "9a66bc64-1d0f-4ccf-a7e4-db9dcdaeaf6f"
      },
      "outputs": [
        {
          "data": {
            "text/plain": [
              "Index(['ID', 'Gênero', 'Idade', 'Ocupação', 'Duração do sono',\n",
              "       'Qualidade do sono', 'Nível de atividade física', 'Nível de estresse',\n",
              "       'Categoria BMI', 'Pressão sanguíneaaaa', 'Frequência cardíaca',\n",
              "       'Passos diários', 'Distúrbio do sono'],\n",
              "      dtype='object')"
            ]
          },
          "execution_count": 9,
          "metadata": {},
          "output_type": "execute_result"
        }
      ],
      "source": [
        "sono.columns"
      ]
    },
    {
      "cell_type": "code",
      "execution_count": 10,
      "metadata": {
        "colab": {
          "base_uri": "https://localhost:8080/"
        },
        "id": "UWQbzZiYPm1z",
        "outputId": "e554d681-d46c-41a8-aea0-02fbacd76771"
      },
      "outputs": [
        {
          "data": {
            "text/plain": [
              "Index(['Identificador', 'Gênero', 'Idade', 'Profissão', 'Duração do sono',\n",
              "       'Qualidade do sono', 'Nível de atividade física', 'Nível de estresse',\n",
              "       'Categoria IMC', 'Pressão sanguínea', 'Frequência cardíaca',\n",
              "       'Passos diários', 'Distúrbio do sono'],\n",
              "      dtype='object')"
            ]
          },
          "execution_count": 10,
          "metadata": {},
          "output_type": "execute_result"
        }
      ],
      "source": [
        "renomear = {'ID':'Identificador','Pressão sanguíneaaaa':'Pressão sanguínea', 'Ocupação':'Profissão', 'Categoria BMI':'Categoria IMC'}\n",
        "sono.rename(columns = renomear,inplace=True)\n",
        "sono.columns\n"
      ]
    },
    {
      "cell_type": "markdown",
      "metadata": {
        "id": "UtE2RKp7P1_s"
      },
      "source": [
        "2. Qual é a média, a moda e a mediana de horas de sono para cada uma\n",
        " das profissões? [‘mean’, np.median, pd.Series.mod]"
      ]
    },
    {
      "cell_type": "code",
      "execution_count": 11,
      "metadata": {
        "colab": {
          "base_uri": "https://localhost:8080/",
          "height": 425
        },
        "collapsed": true,
        "id": "YwFSDVWaQTSf",
        "outputId": "0737702c-eac9-4d7e-f6c8-51687748a25b"
      },
      "outputs": [
        {
          "data": {
            "text/html": [
              "<div>\n",
              "<style scoped>\n",
              "    .dataframe tbody tr th:only-of-type {\n",
              "        vertical-align: middle;\n",
              "    }\n",
              "\n",
              "    .dataframe tbody tr th {\n",
              "        vertical-align: top;\n",
              "    }\n",
              "\n",
              "    .dataframe thead th {\n",
              "        text-align: right;\n",
              "    }\n",
              "</style>\n",
              "<table border=\"1\" class=\"dataframe\">\n",
              "  <thead>\n",
              "    <tr style=\"text-align: right;\">\n",
              "      <th></th>\n",
              "      <th>mean</th>\n",
              "      <th>median</th>\n",
              "      <th>mode</th>\n",
              "    </tr>\n",
              "    <tr>\n",
              "      <th>Profissão</th>\n",
              "      <th></th>\n",
              "      <th></th>\n",
              "      <th></th>\n",
              "    </tr>\n",
              "  </thead>\n",
              "  <tbody>\n",
              "    <tr>\n",
              "      <th>Advogado(a)</th>\n",
              "      <td>7.410638</td>\n",
              "      <td>7.3</td>\n",
              "      <td>7.2</td>\n",
              "    </tr>\n",
              "    <tr>\n",
              "      <th>Cientista</th>\n",
              "      <td>6.000000</td>\n",
              "      <td>6.0</td>\n",
              "      <td>[5.8, 6.2]</td>\n",
              "    </tr>\n",
              "    <tr>\n",
              "      <th>Contador(a)</th>\n",
              "      <td>7.113514</td>\n",
              "      <td>7.2</td>\n",
              "      <td>7.2</td>\n",
              "    </tr>\n",
              "    <tr>\n",
              "      <th>Enfermeiro(a)</th>\n",
              "      <td>7.048611</td>\n",
              "      <td>6.5</td>\n",
              "      <td>6.1</td>\n",
              "    </tr>\n",
              "    <tr>\n",
              "      <th>Eng. de Software</th>\n",
              "      <td>6.750000</td>\n",
              "      <td>6.8</td>\n",
              "      <td>7.5</td>\n",
              "    </tr>\n",
              "    <tr>\n",
              "      <th>Engenheiro(a)</th>\n",
              "      <td>7.987302</td>\n",
              "      <td>8.3</td>\n",
              "      <td>8.4</td>\n",
              "    </tr>\n",
              "    <tr>\n",
              "      <th>Gerente</th>\n",
              "      <td>6.900000</td>\n",
              "      <td>6.9</td>\n",
              "      <td>6.9</td>\n",
              "    </tr>\n",
              "    <tr>\n",
              "      <th>Médico(a)</th>\n",
              "      <td>6.970423</td>\n",
              "      <td>7.6</td>\n",
              "      <td>6.0</td>\n",
              "    </tr>\n",
              "    <tr>\n",
              "      <th>Pessoa Vendendora</th>\n",
              "      <td>6.403125</td>\n",
              "      <td>6.4</td>\n",
              "      <td>6.5</td>\n",
              "    </tr>\n",
              "    <tr>\n",
              "      <th>Professor(a)</th>\n",
              "      <td>6.690000</td>\n",
              "      <td>6.6</td>\n",
              "      <td>6.6</td>\n",
              "    </tr>\n",
              "    <tr>\n",
              "      <th>Representante de Vendas</th>\n",
              "      <td>5.900000</td>\n",
              "      <td>5.9</td>\n",
              "      <td>5.9</td>\n",
              "    </tr>\n",
              "  </tbody>\n",
              "</table>\n",
              "</div>"
            ],
            "text/plain": [
              "                             mean  median        mode\n",
              "Profissão                                            \n",
              "Advogado(a)              7.410638     7.3         7.2\n",
              "Cientista                6.000000     6.0  [5.8, 6.2]\n",
              "Contador(a)              7.113514     7.2         7.2\n",
              "Enfermeiro(a)            7.048611     6.5         6.1\n",
              "Eng. de Software         6.750000     6.8         7.5\n",
              "Engenheiro(a)            7.987302     8.3         8.4\n",
              "Gerente                  6.900000     6.9         6.9\n",
              "Médico(a)                6.970423     7.6         6.0\n",
              "Pessoa Vendendora        6.403125     6.4         6.5\n",
              "Professor(a)             6.690000     6.6         6.6\n",
              "Representante de Vendas  5.900000     5.9         5.9"
            ]
          },
          "execution_count": 11,
          "metadata": {},
          "output_type": "execute_result"
        }
      ],
      "source": [
        "#tipo float ['Duração do sono']\n",
        "sono_por_profissao = sono.groupby('Profissão')['Duração do sono'].agg(['mean', 'median', pd.Series.mode])\n",
        "sono_por_profissao"
      ]
    },
    {
      "cell_type": "markdown",
      "metadata": {
        "id": "p7KeMRFZQT60"
      },
      "source": [
        " 3. Das pessoas que atuam com engenharia de software qual a\n",
        " porcentagem de obesos?"
      ]
    },
    {
      "cell_type": "code",
      "execution_count": 12,
      "metadata": {
        "colab": {
          "base_uri": "https://localhost:8080/"
        },
        "id": "oDi0WpPwbnJ_",
        "outputId": "cabc9449-702a-49ce-8c76-80fdc30b019f"
      },
      "outputs": [
        {
          "data": {
            "text/plain": [
              "array(['Eng. de Software', 'Médico(a)', 'Representante de Vendas',\n",
              "       'Professor(a)', 'Enfermeiro(a)', 'Engenheiro(a)', 'Contador(a)',\n",
              "       'Cientista', 'Advogado(a)', 'Pessoa Vendendora', 'Gerente'],\n",
              "      dtype=object)"
            ]
          },
          "execution_count": 12,
          "metadata": {},
          "output_type": "execute_result"
        }
      ],
      "source": [
        "sono['Profissão'].unique()"
      ]
    },
    {
      "cell_type": "code",
      "execution_count": 13,
      "metadata": {
        "colab": {
          "base_uri": "https://localhost:8080/"
        },
        "id": "rSKj0bQVQW44",
        "outputId": "19d0bb5d-70cd-4721-9fab-1c760f71ae4e"
      },
      "outputs": [
        {
          "data": {
            "text/plain": [
              "25.0"
            ]
          },
          "execution_count": 13,
          "metadata": {},
          "output_type": "execute_result"
        }
      ],
      "source": [
        "#'Categoria IMC' e 'Profissão'\n",
        "sono['Categoria IMC'] #373 linhas\n",
        "eng_soft = sono[sono['Profissão'] == 'Eng. de Software'] #pegando todos eng de software\n",
        "sobrepeso = eng_soft['Categoria IMC'].value_counts(normalize=True).get('Sobrepeso') #de todos os eng, conte na categoria IMC os sobrepeso\n",
        "sobrepeso *100\n",
        "#25% de engenheiros de software estão com sobrepeso"
      ]
    },
    {
      "cell_type": "markdown",
      "metadata": {
        "id": "X2kwMP1UP44Q"
      },
      "source": [
        " 4. De acordo com os dados, advogar ou ser representante de vendas faz\n",
        " você dormir menos? (Use o método ‘isin’, considere a média)"
      ]
    },
    {
      "cell_type": "code",
      "execution_count": 14,
      "metadata": {
        "colab": {
          "base_uri": "https://localhost:8080/"
        },
        "collapsed": true,
        "id": "gisS04oCyuAw",
        "outputId": "d28f876e-cf32-4bb1-b63d-f24a070ba3df"
      },
      "outputs": [
        {
          "name": "stdout",
          "output_type": "stream",
          "text": [
            "<class 'pandas.core.frame.DataFrame'>\n",
            "RangeIndex: 373 entries, 0 to 372\n",
            "Data columns (total 13 columns):\n",
            " #   Column                     Non-Null Count  Dtype  \n",
            "---  ------                     --------------  -----  \n",
            " 0   Identificador              373 non-null    int64  \n",
            " 1   Gênero                     373 non-null    object \n",
            " 2   Idade                      373 non-null    int64  \n",
            " 3   Profissão                  373 non-null    object \n",
            " 4   Duração do sono            373 non-null    float64\n",
            " 5   Qualidade do sono          373 non-null    int64  \n",
            " 6   Nível de atividade física  373 non-null    int64  \n",
            " 7   Nível de estresse          373 non-null    int64  \n",
            " 8   Categoria IMC              373 non-null    object \n",
            " 9   Pressão sanguínea          373 non-null    object \n",
            " 10  Frequência cardíaca        373 non-null    int64  \n",
            " 11  Passos diários             373 non-null    int64  \n",
            " 12  Distúrbio do sono          373 non-null    object \n",
            "dtypes: float64(1), int64(7), object(5)\n",
            "memory usage: 38.0+ KB\n"
          ]
        }
      ],
      "source": [
        "sono.info()"
      ]
    },
    {
      "cell_type": "code",
      "execution_count": 15,
      "metadata": {
        "colab": {
          "base_uri": "https://localhost:8080/",
          "height": 178
        },
        "id": "11K6zn1WQbaw",
        "outputId": "515548a1-44ad-47a1-d645-e20e5d00326d"
      },
      "outputs": [
        {
          "data": {
            "text/plain": [
              "Profissão\n",
              "Advogado(a)                7.410638\n",
              "Representante de Vendas    5.900000\n",
              "Name: Duração do sono, dtype: float64"
            ]
          },
          "execution_count": 15,
          "metadata": {},
          "output_type": "execute_result"
        }
      ],
      "source": [
        "#ver a media de sono de cada um?\n",
        "\n",
        "#Advogado(a) e Representante de Vendas\n",
        "profis = ['Advogado(a)', 'Representante de Vendas']\n",
        "dados_filtrados = sono[sono['Profissão'].isin(profis)]\n",
        "media_sono = dados_filtrados.groupby('Profissão')['Duração do sono'].mean()\n",
        "media_sono\n",
        "#Representante de vendas dorme menos\n"
      ]
    },
    {
      "cell_type": "markdown",
      "metadata": {
        "id": "s4xiwOdSQcBt"
      },
      "source": [
        " 5. Entre quem fez enfermagem e quem fez medicina, quem tem menos\n",
        " horas de sono? (Use o método ‘isin’, considere a média)"
      ]
    },
    {
      "cell_type": "code",
      "execution_count": 16,
      "metadata": {
        "colab": {
          "base_uri": "https://localhost:8080/",
          "height": 178
        },
        "id": "W6kmuOYQQeDT",
        "outputId": "b36f5cf8-afac-4179-9155-7011e816f29b"
      },
      "outputs": [
        {
          "data": {
            "text/plain": [
              "Profissão\n",
              "Enfermeiro(a)    7.048611\n",
              "Médico(a)        6.970423\n",
              "Name: Duração do sono, dtype: float64"
            ]
          },
          "execution_count": 16,
          "metadata": {},
          "output_type": "execute_result"
        }
      ],
      "source": [
        "#calcula a media geral e compara com a media de enfermeira e medico?\n",
        "\n",
        "#Enfermeiro(a) e Médico(a)\n",
        "profis = ['Enfermeiro(a)', 'Médico(a)']\n",
        "dados_filtrados_2 = sono[sono['Profissão'].isin(profis)]\n",
        "media_sono_2 = dados_filtrados_2.groupby('Profissão')['Duração do sono'].mean()\n",
        "media_sono_2\n",
        "#Quase a mesma coisa, médicos 6.97, enfermeiros 7.04"
      ]
    },
    {
      "cell_type": "markdown",
      "metadata": {
        "id": "aBRPEjYRQel2"
      },
      "source": [
        "6. Faça um subconjunto com as colunas Identificador, Gênero, Idade,\n",
        " Pressão sanguínea e Frequência cardíaca."
      ]
    },
    {
      "cell_type": "code",
      "execution_count": 17,
      "metadata": {
        "colab": {
          "base_uri": "https://localhost:8080/",
          "height": 423
        },
        "id": "P3Tn4oHJQgpH",
        "outputId": "7f8c17bd-a3de-46ba-ee1a-e95d484cb931"
      },
      "outputs": [
        {
          "data": {
            "text/html": [
              "<div>\n",
              "<style scoped>\n",
              "    .dataframe tbody tr th:only-of-type {\n",
              "        vertical-align: middle;\n",
              "    }\n",
              "\n",
              "    .dataframe tbody tr th {\n",
              "        vertical-align: top;\n",
              "    }\n",
              "\n",
              "    .dataframe thead th {\n",
              "        text-align: right;\n",
              "    }\n",
              "</style>\n",
              "<table border=\"1\" class=\"dataframe\">\n",
              "  <thead>\n",
              "    <tr style=\"text-align: right;\">\n",
              "      <th></th>\n",
              "      <th>Identificador</th>\n",
              "      <th>Gênero</th>\n",
              "      <th>Idade</th>\n",
              "      <th>Pressão sanguínea</th>\n",
              "      <th>Frequência cardíaca</th>\n",
              "    </tr>\n",
              "  </thead>\n",
              "  <tbody>\n",
              "    <tr>\n",
              "      <th>0</th>\n",
              "      <td>1</td>\n",
              "      <td>Homem</td>\n",
              "      <td>27</td>\n",
              "      <td>126/83</td>\n",
              "      <td>77</td>\n",
              "    </tr>\n",
              "    <tr>\n",
              "      <th>1</th>\n",
              "      <td>2</td>\n",
              "      <td>Homem</td>\n",
              "      <td>28</td>\n",
              "      <td>125/80</td>\n",
              "      <td>75</td>\n",
              "    </tr>\n",
              "    <tr>\n",
              "      <th>2</th>\n",
              "      <td>3</td>\n",
              "      <td>Homem</td>\n",
              "      <td>28</td>\n",
              "      <td>125/80</td>\n",
              "      <td>75</td>\n",
              "    </tr>\n",
              "    <tr>\n",
              "      <th>3</th>\n",
              "      <td>4</td>\n",
              "      <td>Homem</td>\n",
              "      <td>28</td>\n",
              "      <td>140/90</td>\n",
              "      <td>85</td>\n",
              "    </tr>\n",
              "    <tr>\n",
              "      <th>4</th>\n",
              "      <td>5</td>\n",
              "      <td>Homem</td>\n",
              "      <td>28</td>\n",
              "      <td>140/90</td>\n",
              "      <td>85</td>\n",
              "    </tr>\n",
              "    <tr>\n",
              "      <th>...</th>\n",
              "      <td>...</td>\n",
              "      <td>...</td>\n",
              "      <td>...</td>\n",
              "      <td>...</td>\n",
              "      <td>...</td>\n",
              "    </tr>\n",
              "    <tr>\n",
              "      <th>368</th>\n",
              "      <td>369</td>\n",
              "      <td>Mulher</td>\n",
              "      <td>59</td>\n",
              "      <td>140/95</td>\n",
              "      <td>68</td>\n",
              "    </tr>\n",
              "    <tr>\n",
              "      <th>369</th>\n",
              "      <td>370</td>\n",
              "      <td>Mulher</td>\n",
              "      <td>59</td>\n",
              "      <td>140/95</td>\n",
              "      <td>68</td>\n",
              "    </tr>\n",
              "    <tr>\n",
              "      <th>370</th>\n",
              "      <td>371</td>\n",
              "      <td>Mulher</td>\n",
              "      <td>59</td>\n",
              "      <td>140/95</td>\n",
              "      <td>68</td>\n",
              "    </tr>\n",
              "    <tr>\n",
              "      <th>371</th>\n",
              "      <td>372</td>\n",
              "      <td>Mulher</td>\n",
              "      <td>59</td>\n",
              "      <td>140/95</td>\n",
              "      <td>68</td>\n",
              "    </tr>\n",
              "    <tr>\n",
              "      <th>372</th>\n",
              "      <td>373</td>\n",
              "      <td>Mulher</td>\n",
              "      <td>59</td>\n",
              "      <td>140/95</td>\n",
              "      <td>68</td>\n",
              "    </tr>\n",
              "  </tbody>\n",
              "</table>\n",
              "<p>373 rows × 5 columns</p>\n",
              "</div>"
            ],
            "text/plain": [
              "     Identificador  Gênero  Idade Pressão sanguínea  Frequência cardíaca\n",
              "0                1   Homem     27            126/83                   77\n",
              "1                2   Homem     28            125/80                   75\n",
              "2                3   Homem     28            125/80                   75\n",
              "3                4   Homem     28            140/90                   85\n",
              "4                5   Homem     28            140/90                   85\n",
              "..             ...     ...    ...               ...                  ...\n",
              "368            369  Mulher     59            140/95                   68\n",
              "369            370  Mulher     59            140/95                   68\n",
              "370            371  Mulher     59            140/95                   68\n",
              "371            372  Mulher     59            140/95                   68\n",
              "372            373  Mulher     59            140/95                   68\n",
              "\n",
              "[373 rows x 5 columns]"
            ]
          },
          "execution_count": 17,
          "metadata": {},
          "output_type": "execute_result"
        }
      ],
      "source": [
        "new_coluna = sono[['Identificador', 'Gênero', 'Idade', 'Pressão sanguínea', 'Frequência cardíaca']]\n",
        "new_coluna"
      ]
    },
    {
      "cell_type": "markdown",
      "metadata": {
        "id": "q0hXuhbKQhPe"
      },
      "source": [
        " 7. Descubra qual a profissão menos frequente no conjunto. (Use\n",
        " value_counts)"
      ]
    },
    {
      "cell_type": "code",
      "execution_count": 18,
      "metadata": {
        "colab": {
          "base_uri": "https://localhost:8080/",
          "height": 460
        },
        "id": "Jg0OcRNDQit8",
        "outputId": "3a1f3aaf-8b5d-43ce-e821-8127a2d3f4ef"
      },
      "outputs": [
        {
          "data": {
            "text/plain": [
              "Profissão\n",
              "Enfermeiro(a)              72\n",
              "Médico(a)                  71\n",
              "Engenheiro(a)              63\n",
              "Advogado(a)                47\n",
              "Professor(a)               40\n",
              "Contador(a)                37\n",
              "Pessoa Vendendora          32\n",
              "Eng. de Software            4\n",
              "Cientista                   4\n",
              "Representante de Vendas     2\n",
              "Gerente                     1\n",
              "Name: count, dtype: int64"
            ]
          },
          "execution_count": 18,
          "metadata": {},
          "output_type": "execute_result"
        }
      ],
      "source": [
        "#sub_raca_nome['Raça'].values_counts(sort=True)\n",
        "#contar coluna Ocupação\n",
        "sono['Profissão'].value_counts(sort=True)\n",
        "#Profissão menos frequente no conjunto é Gerente"
      ]
    },
    {
      "cell_type": "markdown",
      "metadata": {
        "id": "ICurMPsuQjE2"
      },
      "source": [
        "8. Quem tem maior pressão sanguínea média, homens ou mulheres?\n",
        " (Considere a média)"
      ]
    },
    {
      "cell_type": "code",
      "execution_count": 19,
      "metadata": {
        "colab": {
          "base_uri": "https://localhost:8080/",
          "height": 125
        },
        "id": "X6yUHntBZwvg",
        "outputId": "ffb478b9-bca7-436d-ba46-e9883e6c2da7"
      },
      "outputs": [
        {
          "data": {
            "text/html": [
              "<div>\n",
              "<style scoped>\n",
              "    .dataframe tbody tr th:only-of-type {\n",
              "        vertical-align: middle;\n",
              "    }\n",
              "\n",
              "    .dataframe tbody tr th {\n",
              "        vertical-align: top;\n",
              "    }\n",
              "\n",
              "    .dataframe thead th {\n",
              "        text-align: right;\n",
              "    }\n",
              "</style>\n",
              "<table border=\"1\" class=\"dataframe\">\n",
              "  <thead>\n",
              "    <tr style=\"text-align: right;\">\n",
              "      <th></th>\n",
              "      <th>Sístole</th>\n",
              "      <th>Diástole</th>\n",
              "    </tr>\n",
              "  </thead>\n",
              "  <tbody>\n",
              "    <tr>\n",
              "      <th>Mulheres</th>\n",
              "      <td>86.271739</td>\n",
              "      <td>130.146739</td>\n",
              "    </tr>\n",
              "    <tr>\n",
              "      <th>Homens</th>\n",
              "      <td>83.015873</td>\n",
              "      <td>126.941799</td>\n",
              "    </tr>\n",
              "  </tbody>\n",
              "</table>\n",
              "</div>"
            ],
            "text/plain": [
              "            Sístole    Diástole\n",
              "Mulheres  86.271739  130.146739\n",
              "Homens    83.015873  126.941799"
            ]
          },
          "execution_count": 19,
          "metadata": {},
          "output_type": "execute_result"
        }
      ],
      "source": [
        "# Separando e Convertendo para números\n",
        "sono[['Diástole', 'Sístole']] = sono['Pressão sanguínea'].str.split('/', expand=True)\n",
        "sono['Diástole'] = pd.to_numeric(sono['Diástole'])\n",
        "sono['Sístole'] = pd.to_numeric(sono['Sístole'])\n",
        "# Calculando as médias das sistole e da diastole por gênero\n",
        "media_mulherd = sono.groupby('Gênero')['Diástole'].mean().loc['Mulher']\n",
        "media_mulhers = sono.groupby('Gênero')['Sístole'].mean().loc['Mulher']\n",
        "media_homems = sono.groupby('Gênero')['Sístole'].mean().loc['Homem']\n",
        "media_homemd = sono.groupby('Gênero')['Diástole'].mean().loc['Homem']\n",
        "dic = {'Sístole': [media_mulhers, media_homems],'Diástole': [media_mulherd,media_homemd]}\n",
        "#transf em dataframe\n",
        "mediasfinais = pd.DataFrame(dic, index=['Mulheres', 'Homens'])\n",
        "mediasfinais\n",
        "#a maior pressão sanguínea média é de mulheres"
      ]
    },
    {
      "cell_type": "markdown",
      "metadata": {
        "id": "Owe985Z_QliY"
      },
      "source": [
        "9. É predominante entre os participantes dormir 8 horas por dia\n",
        " (considere usar Moda como medida)?"
      ]
    },
    {
      "cell_type": "code",
      "execution_count": 20,
      "metadata": {
        "colab": {
          "base_uri": "https://localhost:8080/",
          "height": 115
        },
        "id": "bIOs08eiQnof",
        "outputId": "75ff9b65-e054-4b1d-9eae-f32cd6b747a2"
      },
      "outputs": [
        {
          "data": {
            "text/plain": [
              "0    7.2\n",
              "Name: Duração do sono, dtype: float64"
            ]
          },
          "execution_count": 20,
          "metadata": {},
          "output_type": "execute_result"
        }
      ],
      "source": [
        "sono['Duração do sono'].mode()\n",
        "#Não é predominantemente entre os participantes dormir 8 horas por dia"
      ]
    },
    {
      "cell_type": "markdown",
      "metadata": {
        "id": "EtHAfr7AQn-B"
      },
      "source": [
        "10. Pessoas com frequências cardíacas acima de 70 dão mais passos que\n",
        " pessoas com frequência cardíaca menor ou igual a 70? (Use a média)"
      ]
    },
    {
      "cell_type": "code",
      "execution_count": 21,
      "metadata": {
        "colab": {
          "base_uri": "https://localhost:8080/",
          "height": 125
        },
        "id": "1mW6RmPIQrIr",
        "outputId": "41f753f5-cac2-4919-a811-8f61483f75d1"
      },
      "outputs": [
        {
          "data": {
            "text/html": [
              "<div>\n",
              "<style scoped>\n",
              "    .dataframe tbody tr th:only-of-type {\n",
              "        vertical-align: middle;\n",
              "    }\n",
              "\n",
              "    .dataframe tbody tr th {\n",
              "        vertical-align: top;\n",
              "    }\n",
              "\n",
              "    .dataframe thead th {\n",
              "        text-align: right;\n",
              "    }\n",
              "</style>\n",
              "<table border=\"1\" class=\"dataframe\">\n",
              "  <thead>\n",
              "    <tr style=\"text-align: right;\">\n",
              "      <th></th>\n",
              "      <th>0</th>\n",
              "    </tr>\n",
              "  </thead>\n",
              "  <tbody>\n",
              "    <tr>\n",
              "      <th>0</th>\n",
              "      <td>6472.932331</td>\n",
              "    </tr>\n",
              "    <tr>\n",
              "      <th>1</th>\n",
              "      <td>6575.609756</td>\n",
              "    </tr>\n",
              "  </tbody>\n",
              "</table>\n",
              "</div>"
            ],
            "text/plain": [
              "             0\n",
              "0  6472.932331\n",
              "1  6575.609756"
            ]
          },
          "execution_count": 21,
          "metadata": {},
          "output_type": "execute_result"
        }
      ],
      "source": [
        "#Passos diários, Frequência cardíaca. #filtrar para acima de 70 a frequencia e media de passos diario dessa faixa\n",
        "frequ_acima_70 = sono[sono['Frequência cardíaca'] > 70]\n",
        "mais_70 = frequ_acima_70['Passos diários'].mean()\n",
        "frequ_abaixo_70 = sono[sono['Frequência cardíaca'] < 70]\n",
        "menos_70 = frequ_abaixo_70['Passos diários'].mean()\n",
        "freqs = pd.DataFrame([mais_70,menos_70])\n",
        "freqs\n",
        "#as médias foram bem próximas, mas a maior médias foi de pessoas com frequencia menor que 70"
      ]
    }
  ],
  "metadata": {
    "colab": {
      "provenance": []
    },
    "kernelspec": {
      "display_name": "Python 3",
      "name": "python3"
    },
    "language_info": {
      "codemirror_mode": {
        "name": "ipython",
        "version": 3
      },
      "file_extension": ".py",
      "mimetype": "text/x-python",
      "name": "python",
      "nbconvert_exporter": "python",
      "pygments_lexer": "ipython3",
      "version": "3.11.5"
    }
  },
  "nbformat": 4,
  "nbformat_minor": 0
}
