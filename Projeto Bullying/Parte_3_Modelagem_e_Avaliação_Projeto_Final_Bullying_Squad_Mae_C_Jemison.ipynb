{
  "cells": [
    {
      "cell_type": "markdown",
      "metadata": {
        "id": "P9vUaX1O3iLX"
      },
      "source": [
        "# Squad Mae C. Jemison\n",
        "\n",
        "Bootcamp Data Analytics 2024\n",
        "\n",
        "Projeto Final - Bullying\n",
        "\n",
        "Autoras:\n",
        "- Ana Carolina Szczepanski Oliveira\n",
        "- Claisa  Lubke\n",
        "- Elis Regina Weiss\n",
        "- Hanna Câmara da Justa\n",
        "- Iris Brandao Pires Linhares\n",
        "- Isabella Stersa de Oliveira\n",
        "- Larissa das Chagas Brum\n",
        "- Lidiane Vicente"
      ]
    },
    {
      "cell_type": "markdown",
      "metadata": {
        "id": "_7KsgiUiU58H"
      },
      "source": [
        "# Configuração"
      ]
    },
    {
      "cell_type": "markdown",
      "metadata": {
        "id": "ilKDLQdU1MVM"
      },
      "source": [
        "### Instalação de Bibliotecas"
      ]
    },
    {
      "cell_type": "markdown",
      "metadata": {
        "id": "0jqLy3CIy7to"
      },
      "source": [
        "### Importação de Bibliotecas"
      ]
    },
    {
      "cell_type": "code",
      "execution_count": null,
      "metadata": {
        "collapsed": true,
        "id": "Jvxl5KApeBKP"
      },
      "outputs": [],
      "source": [
        "# Módulo para interação no ambiente Google Colab\n",
        "from google.colab import files, drive\n",
        "\n",
        "# Pré-processamento ou limpeza de dados\n",
        "import pandas as pd\n",
        "import numpy as np\n",
        "\n",
        "# Visualização de dados\n",
        "import plotly.express as px\n",
        "import plotly.graph_objects as go\n",
        "import plotly.figure_factory as ff\n",
        "\n",
        "\n",
        "# Pré-processamento\n",
        "from sklearn.preprocessing import StandardScaler\n",
        "from sklearn.model_selection import train_test_split\n",
        "\n",
        "# Modelo de classificação\n",
        "from sklearn.linear_model import LogisticRegression\n",
        "\n",
        "# Técnicas para Classes Desbalanceadas\n",
        "from imblearn.under_sampling import RandomUnderSampler\n",
        "from imblearn.over_sampling import SMOTE\n",
        "\n",
        "from sklearn.model_selection import GridSearchCV\n",
        "\n",
        "# Avaliação do Modelo\n",
        "from sklearn.model_selection import cross_val_score\n",
        "from sklearn.metrics import classification_report\n",
        "from sklearn.metrics import confusion_matrix, precision_recall_curve, roc_curve, auc, log_loss, accuracy_score, classification_report, precision_score, recall_score\n",
        "\n",
        "# Interpretação e Explicabilidade de Modelos\n",
        "import shap\n",
        "\n",
        "# Módulo para construir tabelas\n",
        "from tabulate import tabulate\n",
        "\n",
        "# Avisos\n",
        "import warnings"
      ]
    },
    {
      "cell_type": "markdown",
      "metadata": {
        "id": "qoV3LaAN4JHJ"
      },
      "source": [
        "## Configuração de avisos"
      ]
    },
    {
      "cell_type": "code",
      "execution_count": null,
      "metadata": {
        "id": "FeXaCX9f29o9"
      },
      "outputs": [],
      "source": [
        "warnings.filterwarnings('ignore')"
      ]
    },
    {
      "cell_type": "markdown",
      "metadata": {
        "id": "4rSmix8Z2ENs"
      },
      "source": [
        "## Configuracão de Plotagem"
      ]
    },
    {
      "cell_type": "code",
      "execution_count": null,
      "metadata": {
        "id": "uzAA11G_vYDJ"
      },
      "outputs": [],
      "source": [
        "# Configurações gerais para a plotagem com Plotly\n",
        "layout = go.Layout(\n",
        "    # Tamanho padrão das figuras\n",
        "    width=1200,\n",
        "    height=800,\n",
        "\n",
        "    # Resolução da figura\n",
        "    # Nota: Não há um parâmetro direto para DPI em Plotly; isso é ajustado na exportação da imagem.\n",
        "\n",
        "    # Configuração da largura e cor das linhas\n",
        "    template=\"plotly_white\",  # Define uma base com temas claros\n",
        "\n",
        "    # Tamanho do título dos eixos\n",
        "    title_font=dict(size=16),\n",
        "\n",
        "    # Tamanho dos rótulos dos eixos\n",
        "    xaxis=dict(\n",
        "        title_font=dict(size=14),\n",
        "        tickfont=dict(size=12)\n",
        "    ),\n",
        "    yaxis=dict(\n",
        "        title_font=dict(size=14),\n",
        "        tickfont=dict(size=12)\n",
        "    ),\n",
        "\n",
        "    # Tamanho da fonte da legenda\n",
        "    legend=dict(font=dict(size=12)),\n",
        "\n",
        "    # Transparência da grade\n",
        "    xaxis_gridcolor=\"rgba(0, 0, 0, 0.5)\",  # Cor e transparência\n",
        "    yaxis_gridcolor=\"rgba(0, 0, 0, 0.5)\"\n",
        ")\n"
      ]
    },
    {
      "cell_type": "markdown",
      "metadata": {
        "id": "MLWGwJ744YEg"
      },
      "source": [
        "## Importação dataset"
      ]
    },
    {
      "cell_type": "code",
      "execution_count": null,
      "metadata": {
        "colab": {
          "base_uri": "https://localhost:8080/"
        },
        "id": "JqgKRYVsiIYB",
        "outputId": "d7f18c65-988b-496c-b310-0d16d0ae5bb2"
      },
      "outputs": [
        {
          "output_type": "stream",
          "name": "stdout",
          "text": [
            "Mounted at /content/drive\n"
          ]
        }
      ],
      "source": [
        "# Montar drive\n",
        "drive.mount('/content/drive')"
      ]
    },
    {
      "cell_type": "markdown",
      "metadata": {
        "id": "MXF4WOqG4ngQ"
      },
      "source": [
        "## Leitura e criação de dataframe"
      ]
    },
    {
      "cell_type": "code",
      "execution_count": null,
      "metadata": {
        "id": "vRBqjr8o8kGK"
      },
      "outputs": [],
      "source": [
        "# Criação e leitura do dataframe original\n",
        "df_final_modelagem = pd.read_csv('/content/drive/MyDrive/Projeto Final - Bullying/df_final_modelagem.csv')"
      ]
    },
    {
      "cell_type": "markdown",
      "metadata": {
        "id": "NQteB5rLeBKo"
      },
      "source": [
        "# 5. Estágio Quinto - Modelagem\n",
        "\n"
      ]
    },
    {
      "cell_type": "markdown",
      "metadata": {
        "id": "HTvr8Jg5eBKo"
      },
      "source": [
        "## 5.1. Técnica de modelagem"
      ]
    },
    {
      "cell_type": "markdown",
      "metadata": {
        "id": "xBOBHaVdYKMU"
      },
      "source": [
        "- Técnica Selecionada: Regressão Logística\n",
        "\n",
        "- Definição: A Regressão Logística é um modelo estatístico usado para prever a probabilidade de uma variável dependente categórica, geralmente binária. O modelo ajusta uma função logística (sigmoide) para calcular as probabilidades.\n",
        "\n",
        "- Razoabilidade da escolha: É adequada quando a variável alvo é binária (como \"Sim\"/\"Não\").\n",
        "Interpretação clara dos coeficientes (indica a direção e magnitude do impacto das variáveis preditoras).\n",
        "Flexibilidade em lidar com variáveis categóricas e contínuas.\n",
        "\n",
        "- Formulação do Problema:\n",
        "O objetivo é prever se um evento ocorre (classe positiva) com base nas variáveis explicativas presentes no dataset."
      ]
    },
    {
      "cell_type": "markdown",
      "metadata": {
        "id": "HAOu8yGfeBKo"
      },
      "source": [
        "## 5.2. Premissas do modelo"
      ]
    },
    {
      "cell_type": "markdown",
      "metadata": {
        "id": "-TLNfvrUZzqK"
      },
      "source": [
        "- Tratamento de valores faltantes: Foi criada uma classe No_answer para lidar com valores ausentes nas variáveis explicativas.\n",
        "- Verificação de Multicolinearidade: Foi realizada uma análise preliminar da matriz de correlação e cálculo do VIF para eliminar ou ajustar preditores correlacionados.\n",
        "- Codificação das Variáveis: Todas as variáveis categóricas foram devidamente codificadas utilizando técnica como One-Hot Encoding.\n",
        "- Verificação de outliers: Não foi encontrado valores de outilires\n",
        "- Escalonar dos dados: Utilizar técnica de StandardScaler para a padronização de dados.\n",
        "- Distribuição das Variáveis:\n",
        "Realizou-se análise exploratória para verificar se a relação entre os preditores e a variável alvo segue um padrão coerente."
      ]
    },
    {
      "cell_type": "markdown",
      "metadata": {
        "id": "MPZ4ofD9eBKo"
      },
      "source": [
        "## 5.3. Construir modelo<a class=\"anchor\" id=\"BuildModel\"></a>\n",
        "Execute a ferramenta de modelagem no conjunto de dados preparado para criar um ou mais modelos.\n",
        "\n",
        "**Configurações de parâmetros** - Com qualquer ferramenta de modelagem, geralmente há um grande número de parâmetros que podem ser ajustados. Liste os parâmetros e seus valores escolhidos, juntamente com a justificativa para a escolha das configurações dos parâmetros.\n",
        "\n",
        "**Modelos** – Estes são os modelos reais produzidos pela ferramenta de modelagem, não um relatório sobre os modelos."
      ]
    },
    {
      "cell_type": "markdown",
      "metadata": {
        "id": "IA8ikSWDNPYF"
      },
      "source": [
        "Não houve muita diferença entre os modelos. E se deletar as linhas sem info?"
      ]
    },
    {
      "cell_type": "code",
      "execution_count": null,
      "metadata": {
        "id": "g6AGIGBfuvLN"
      },
      "outputs": [],
      "source": [
        "pd.set_option('display.max_columns', None)"
      ]
    },
    {
      "cell_type": "code",
      "execution_count": null,
      "metadata": {
        "colab": {
          "base_uri": "https://localhost:8080/",
          "height": 244
        },
        "id": "ec-lQGGckWGt",
        "outputId": "dec8e78f-a69f-45e6-8e0c-6cf242efb801"
      },
      "outputs": [
        {
          "output_type": "execute_result",
          "data": {
            "text/plain": [
              "   bullied_at_school  age  bullied_off_school_Yes  cyberbullied_Yes  \\\n",
              "0                  1   13                       1                 0   \n",
              "1                  0   13                       0                 0   \n",
              "2                  0   14                       0                 0   \n",
              "3                  0   16                       0                 0   \n",
              "4                  0   13                       0                 0   \n",
              "\n",
              "   sex_Female  physically_attacked_0 times  physically_attacked_1 time  \\\n",
              "0           1                            1                           0   \n",
              "1           1                            1                           0   \n",
              "2           0                            1                           0   \n",
              "3           0                            1                           0   \n",
              "4           1                            1                           0   \n",
              "\n",
              "   physically_attacked_10 or 11 times  physically_attacked_12 or more times  \\\n",
              "0                                   0                                     0   \n",
              "1                                   0                                     0   \n",
              "2                                   0                                     0   \n",
              "3                                   0                                     0   \n",
              "4                                   0                                     0   \n",
              "\n",
              "   physically_attacked_2 or 3 times  physically_attacked_4 or 5 times  \\\n",
              "0                                 0                                 0   \n",
              "1                                 0                                 0   \n",
              "2                                 0                                 0   \n",
              "3                                 0                                 0   \n",
              "4                                 0                                 0   \n",
              "\n",
              "   physically_attacked_6 or 7 times  physically_attacked_8 or 9 times  \\\n",
              "0                                 0                                 0   \n",
              "1                                 0                                 0   \n",
              "2                                 0                                 0   \n",
              "3                                 0                                 0   \n",
              "4                                 0                                 0   \n",
              "\n",
              "   physical_fighting_0 times  physical_fighting_1 time  \\\n",
              "0                          1                         0   \n",
              "1                          1                         0   \n",
              "2                          1                         0   \n",
              "3                          0                         0   \n",
              "4                          1                         0   \n",
              "\n",
              "   physical_fighting_10 or 11 times  physical_fighting_12 or more times  \\\n",
              "0                                 0                                   0   \n",
              "1                                 0                                   0   \n",
              "2                                 0                                   0   \n",
              "3                                 0                                   0   \n",
              "4                                 0                                   0   \n",
              "\n",
              "   physical_fighting_2 or 3 times  physical_fighting_4 or 5 times  \\\n",
              "0                               0                               0   \n",
              "1                               0                               0   \n",
              "2                               0                               0   \n",
              "3                               1                               0   \n",
              "4                               0                               0   \n",
              "\n",
              "   physical_fighting_6 or 7 times  physical_fighting_8 or 9 times  \\\n",
              "0                               0                               0   \n",
              "1                               0                               0   \n",
              "2                               0                               0   \n",
              "3                               0                               0   \n",
              "4                               0                               0   \n",
              "\n",
              "   felt_lonely_Most of the time  felt_lonely_Never  felt_lonely_Rarely  \\\n",
              "0                             0                  0                   0   \n",
              "1                             0                  1                   0   \n",
              "2                             0                  1                   0   \n",
              "3                             0                  1                   0   \n",
              "4                             0                  0                   1   \n",
              "\n",
              "   felt_lonely_Sometimes  close_friends_0  close_friends_1  close_friends_2  \\\n",
              "0                      0                0                0                1   \n",
              "1                      0                0                0                0   \n",
              "2                      0                0                0                0   \n",
              "3                      0                0                0                0   \n",
              "4                      0                0                0                0   \n",
              "\n",
              "   close_friends_3 or more  missed_school_no_permission_0 days  \\\n",
              "0                        0                                   0   \n",
              "1                        1                                   1   \n",
              "2                        1                                   1   \n",
              "3                        1                                   1   \n",
              "4                        1                                   1   \n",
              "\n",
              "   missed_school_no_permission_1 or 2 days  \\\n",
              "0                                        0   \n",
              "1                                        0   \n",
              "2                                        0   \n",
              "3                                        0   \n",
              "4                                        0   \n",
              "\n",
              "   missed_school_no_permission_10 or more days  \\\n",
              "0                                            1   \n",
              "1                                            0   \n",
              "2                                            0   \n",
              "3                                            0   \n",
              "4                                            0   \n",
              "\n",
              "   missed_school_no_permission_3 to 5 days  students_kind_and_helpful_Always  \\\n",
              "0                                        0                                 0   \n",
              "1                                        0                                 0   \n",
              "2                                        0                                 0   \n",
              "3                                        0                                 0   \n",
              "4                                        0                                 0   \n",
              "\n",
              "   students_kind_and_helpful_Most of the time  \\\n",
              "0                                           0   \n",
              "1                                           0   \n",
              "2                                           0   \n",
              "3                                           0   \n",
              "4                                           1   \n",
              "\n",
              "   students_kind_and_helpful_Never  students_kind_and_helpful_Rarely  \\\n",
              "0                                1                                 0   \n",
              "1                                0                                 0   \n",
              "2                                0                                 0   \n",
              "3                                0                                 0   \n",
              "4                                0                                 0   \n",
              "\n",
              "   students_kind_and_helpful_Sometimes  parents_understand_problems_Always  \\\n",
              "0                                    0                                   1   \n",
              "1                                    1                                   1   \n",
              "2                                    1                                   1   \n",
              "3                                    1                                   0   \n",
              "4                                    0                                   0   \n",
              "\n",
              "   parents_understand_problems_Most of the time  \\\n",
              "0                                             0   \n",
              "1                                             0   \n",
              "2                                             0   \n",
              "3                                             0   \n",
              "4                                             1   \n",
              "\n",
              "   parents_understand_problems_Never  parents_understand_problems_Rarely  \\\n",
              "0                                  0                                   0   \n",
              "1                                  0                                   0   \n",
              "2                                  0                                   0   \n",
              "3                                  0                                   0   \n",
              "4                                  0                                   0   \n",
              "\n",
              "   parents_understand_problems_Sometimes  often_felt_lonely_Yes  \\\n",
              "0                                      0                      1   \n",
              "1                                      0                      0   \n",
              "2                                      0                      0   \n",
              "3                                      0                      0   \n",
              "4                                      0                      0   \n",
              "\n",
              "   missed_classes_no_permission_Yes  underweight_Yes  overweight_Yes  \\\n",
              "0                                 1                0               0   \n",
              "1                                 0                0               0   \n",
              "2                                 0                0               0   \n",
              "3                                 0                0               0   \n",
              "4                                 0                0               0   \n",
              "\n",
              "   obese_Yes  \n",
              "0          0  \n",
              "1          0  \n",
              "2          0  \n",
              "3          0  \n",
              "4          0  "
            ],
            "text/html": [
              "\n",
              "  <div id=\"df-bd9f541f-47b0-43b4-84af-8603026e36e9\" class=\"colab-df-container\">\n",
              "    <div>\n",
              "<style scoped>\n",
              "    .dataframe tbody tr th:only-of-type {\n",
              "        vertical-align: middle;\n",
              "    }\n",
              "\n",
              "    .dataframe tbody tr th {\n",
              "        vertical-align: top;\n",
              "    }\n",
              "\n",
              "    .dataframe thead th {\n",
              "        text-align: right;\n",
              "    }\n",
              "</style>\n",
              "<table border=\"1\" class=\"dataframe\">\n",
              "  <thead>\n",
              "    <tr style=\"text-align: right;\">\n",
              "      <th></th>\n",
              "      <th>bullied_at_school</th>\n",
              "      <th>age</th>\n",
              "      <th>bullied_off_school_Yes</th>\n",
              "      <th>cyberbullied_Yes</th>\n",
              "      <th>sex_Female</th>\n",
              "      <th>physically_attacked_0 times</th>\n",
              "      <th>physically_attacked_1 time</th>\n",
              "      <th>physically_attacked_10 or 11 times</th>\n",
              "      <th>physically_attacked_12 or more times</th>\n",
              "      <th>physically_attacked_2 or 3 times</th>\n",
              "      <th>physically_attacked_4 or 5 times</th>\n",
              "      <th>physically_attacked_6 or 7 times</th>\n",
              "      <th>physically_attacked_8 or 9 times</th>\n",
              "      <th>physical_fighting_0 times</th>\n",
              "      <th>physical_fighting_1 time</th>\n",
              "      <th>physical_fighting_10 or 11 times</th>\n",
              "      <th>physical_fighting_12 or more times</th>\n",
              "      <th>physical_fighting_2 or 3 times</th>\n",
              "      <th>physical_fighting_4 or 5 times</th>\n",
              "      <th>physical_fighting_6 or 7 times</th>\n",
              "      <th>physical_fighting_8 or 9 times</th>\n",
              "      <th>felt_lonely_Most of the time</th>\n",
              "      <th>felt_lonely_Never</th>\n",
              "      <th>felt_lonely_Rarely</th>\n",
              "      <th>felt_lonely_Sometimes</th>\n",
              "      <th>close_friends_0</th>\n",
              "      <th>close_friends_1</th>\n",
              "      <th>close_friends_2</th>\n",
              "      <th>close_friends_3 or more</th>\n",
              "      <th>missed_school_no_permission_0 days</th>\n",
              "      <th>missed_school_no_permission_1 or 2 days</th>\n",
              "      <th>missed_school_no_permission_10 or more days</th>\n",
              "      <th>missed_school_no_permission_3 to 5 days</th>\n",
              "      <th>students_kind_and_helpful_Always</th>\n",
              "      <th>students_kind_and_helpful_Most of the time</th>\n",
              "      <th>students_kind_and_helpful_Never</th>\n",
              "      <th>students_kind_and_helpful_Rarely</th>\n",
              "      <th>students_kind_and_helpful_Sometimes</th>\n",
              "      <th>parents_understand_problems_Always</th>\n",
              "      <th>parents_understand_problems_Most of the time</th>\n",
              "      <th>parents_understand_problems_Never</th>\n",
              "      <th>parents_understand_problems_Rarely</th>\n",
              "      <th>parents_understand_problems_Sometimes</th>\n",
              "      <th>often_felt_lonely_Yes</th>\n",
              "      <th>missed_classes_no_permission_Yes</th>\n",
              "      <th>underweight_Yes</th>\n",
              "      <th>overweight_Yes</th>\n",
              "      <th>obese_Yes</th>\n",
              "    </tr>\n",
              "  </thead>\n",
              "  <tbody>\n",
              "    <tr>\n",
              "      <th>0</th>\n",
              "      <td>1</td>\n",
              "      <td>13</td>\n",
              "      <td>1</td>\n",
              "      <td>0</td>\n",
              "      <td>1</td>\n",
              "      <td>1</td>\n",
              "      <td>0</td>\n",
              "      <td>0</td>\n",
              "      <td>0</td>\n",
              "      <td>0</td>\n",
              "      <td>0</td>\n",
              "      <td>0</td>\n",
              "      <td>0</td>\n",
              "      <td>1</td>\n",
              "      <td>0</td>\n",
              "      <td>0</td>\n",
              "      <td>0</td>\n",
              "      <td>0</td>\n",
              "      <td>0</td>\n",
              "      <td>0</td>\n",
              "      <td>0</td>\n",
              "      <td>0</td>\n",
              "      <td>0</td>\n",
              "      <td>0</td>\n",
              "      <td>0</td>\n",
              "      <td>0</td>\n",
              "      <td>0</td>\n",
              "      <td>1</td>\n",
              "      <td>0</td>\n",
              "      <td>0</td>\n",
              "      <td>0</td>\n",
              "      <td>1</td>\n",
              "      <td>0</td>\n",
              "      <td>0</td>\n",
              "      <td>0</td>\n",
              "      <td>1</td>\n",
              "      <td>0</td>\n",
              "      <td>0</td>\n",
              "      <td>1</td>\n",
              "      <td>0</td>\n",
              "      <td>0</td>\n",
              "      <td>0</td>\n",
              "      <td>0</td>\n",
              "      <td>1</td>\n",
              "      <td>1</td>\n",
              "      <td>0</td>\n",
              "      <td>0</td>\n",
              "      <td>0</td>\n",
              "    </tr>\n",
              "    <tr>\n",
              "      <th>1</th>\n",
              "      <td>0</td>\n",
              "      <td>13</td>\n",
              "      <td>0</td>\n",
              "      <td>0</td>\n",
              "      <td>1</td>\n",
              "      <td>1</td>\n",
              "      <td>0</td>\n",
              "      <td>0</td>\n",
              "      <td>0</td>\n",
              "      <td>0</td>\n",
              "      <td>0</td>\n",
              "      <td>0</td>\n",
              "      <td>0</td>\n",
              "      <td>1</td>\n",
              "      <td>0</td>\n",
              "      <td>0</td>\n",
              "      <td>0</td>\n",
              "      <td>0</td>\n",
              "      <td>0</td>\n",
              "      <td>0</td>\n",
              "      <td>0</td>\n",
              "      <td>0</td>\n",
              "      <td>1</td>\n",
              "      <td>0</td>\n",
              "      <td>0</td>\n",
              "      <td>0</td>\n",
              "      <td>0</td>\n",
              "      <td>0</td>\n",
              "      <td>1</td>\n",
              "      <td>1</td>\n",
              "      <td>0</td>\n",
              "      <td>0</td>\n",
              "      <td>0</td>\n",
              "      <td>0</td>\n",
              "      <td>0</td>\n",
              "      <td>0</td>\n",
              "      <td>0</td>\n",
              "      <td>1</td>\n",
              "      <td>1</td>\n",
              "      <td>0</td>\n",
              "      <td>0</td>\n",
              "      <td>0</td>\n",
              "      <td>0</td>\n",
              "      <td>0</td>\n",
              "      <td>0</td>\n",
              "      <td>0</td>\n",
              "      <td>0</td>\n",
              "      <td>0</td>\n",
              "    </tr>\n",
              "    <tr>\n",
              "      <th>2</th>\n",
              "      <td>0</td>\n",
              "      <td>14</td>\n",
              "      <td>0</td>\n",
              "      <td>0</td>\n",
              "      <td>0</td>\n",
              "      <td>1</td>\n",
              "      <td>0</td>\n",
              "      <td>0</td>\n",
              "      <td>0</td>\n",
              "      <td>0</td>\n",
              "      <td>0</td>\n",
              "      <td>0</td>\n",
              "      <td>0</td>\n",
              "      <td>1</td>\n",
              "      <td>0</td>\n",
              "      <td>0</td>\n",
              "      <td>0</td>\n",
              "      <td>0</td>\n",
              "      <td>0</td>\n",
              "      <td>0</td>\n",
              "      <td>0</td>\n",
              "      <td>0</td>\n",
              "      <td>1</td>\n",
              "      <td>0</td>\n",
              "      <td>0</td>\n",
              "      <td>0</td>\n",
              "      <td>0</td>\n",
              "      <td>0</td>\n",
              "      <td>1</td>\n",
              "      <td>1</td>\n",
              "      <td>0</td>\n",
              "      <td>0</td>\n",
              "      <td>0</td>\n",
              "      <td>0</td>\n",
              "      <td>0</td>\n",
              "      <td>0</td>\n",
              "      <td>0</td>\n",
              "      <td>1</td>\n",
              "      <td>1</td>\n",
              "      <td>0</td>\n",
              "      <td>0</td>\n",
              "      <td>0</td>\n",
              "      <td>0</td>\n",
              "      <td>0</td>\n",
              "      <td>0</td>\n",
              "      <td>0</td>\n",
              "      <td>0</td>\n",
              "      <td>0</td>\n",
              "    </tr>\n",
              "    <tr>\n",
              "      <th>3</th>\n",
              "      <td>0</td>\n",
              "      <td>16</td>\n",
              "      <td>0</td>\n",
              "      <td>0</td>\n",
              "      <td>0</td>\n",
              "      <td>1</td>\n",
              "      <td>0</td>\n",
              "      <td>0</td>\n",
              "      <td>0</td>\n",
              "      <td>0</td>\n",
              "      <td>0</td>\n",
              "      <td>0</td>\n",
              "      <td>0</td>\n",
              "      <td>0</td>\n",
              "      <td>0</td>\n",
              "      <td>0</td>\n",
              "      <td>0</td>\n",
              "      <td>1</td>\n",
              "      <td>0</td>\n",
              "      <td>0</td>\n",
              "      <td>0</td>\n",
              "      <td>0</td>\n",
              "      <td>1</td>\n",
              "      <td>0</td>\n",
              "      <td>0</td>\n",
              "      <td>0</td>\n",
              "      <td>0</td>\n",
              "      <td>0</td>\n",
              "      <td>1</td>\n",
              "      <td>1</td>\n",
              "      <td>0</td>\n",
              "      <td>0</td>\n",
              "      <td>0</td>\n",
              "      <td>0</td>\n",
              "      <td>0</td>\n",
              "      <td>0</td>\n",
              "      <td>0</td>\n",
              "      <td>1</td>\n",
              "      <td>0</td>\n",
              "      <td>0</td>\n",
              "      <td>0</td>\n",
              "      <td>0</td>\n",
              "      <td>0</td>\n",
              "      <td>0</td>\n",
              "      <td>0</td>\n",
              "      <td>0</td>\n",
              "      <td>0</td>\n",
              "      <td>0</td>\n",
              "    </tr>\n",
              "    <tr>\n",
              "      <th>4</th>\n",
              "      <td>0</td>\n",
              "      <td>13</td>\n",
              "      <td>0</td>\n",
              "      <td>0</td>\n",
              "      <td>1</td>\n",
              "      <td>1</td>\n",
              "      <td>0</td>\n",
              "      <td>0</td>\n",
              "      <td>0</td>\n",
              "      <td>0</td>\n",
              "      <td>0</td>\n",
              "      <td>0</td>\n",
              "      <td>0</td>\n",
              "      <td>1</td>\n",
              "      <td>0</td>\n",
              "      <td>0</td>\n",
              "      <td>0</td>\n",
              "      <td>0</td>\n",
              "      <td>0</td>\n",
              "      <td>0</td>\n",
              "      <td>0</td>\n",
              "      <td>0</td>\n",
              "      <td>0</td>\n",
              "      <td>1</td>\n",
              "      <td>0</td>\n",
              "      <td>0</td>\n",
              "      <td>0</td>\n",
              "      <td>0</td>\n",
              "      <td>1</td>\n",
              "      <td>1</td>\n",
              "      <td>0</td>\n",
              "      <td>0</td>\n",
              "      <td>0</td>\n",
              "      <td>0</td>\n",
              "      <td>1</td>\n",
              "      <td>0</td>\n",
              "      <td>0</td>\n",
              "      <td>0</td>\n",
              "      <td>0</td>\n",
              "      <td>1</td>\n",
              "      <td>0</td>\n",
              "      <td>0</td>\n",
              "      <td>0</td>\n",
              "      <td>0</td>\n",
              "      <td>0</td>\n",
              "      <td>0</td>\n",
              "      <td>0</td>\n",
              "      <td>0</td>\n",
              "    </tr>\n",
              "  </tbody>\n",
              "</table>\n",
              "</div>\n",
              "    <div class=\"colab-df-buttons\">\n",
              "\n",
              "  <div class=\"colab-df-container\">\n",
              "    <button class=\"colab-df-convert\" onclick=\"convertToInteractive('df-bd9f541f-47b0-43b4-84af-8603026e36e9')\"\n",
              "            title=\"Convert this dataframe to an interactive table.\"\n",
              "            style=\"display:none;\">\n",
              "\n",
              "  <svg xmlns=\"http://www.w3.org/2000/svg\" height=\"24px\" viewBox=\"0 -960 960 960\">\n",
              "    <path d=\"M120-120v-720h720v720H120Zm60-500h600v-160H180v160Zm220 220h160v-160H400v160Zm0 220h160v-160H400v160ZM180-400h160v-160H180v160Zm440 0h160v-160H620v160ZM180-180h160v-160H180v160Zm440 0h160v-160H620v160Z\"/>\n",
              "  </svg>\n",
              "    </button>\n",
              "\n",
              "  <style>\n",
              "    .colab-df-container {\n",
              "      display:flex;\n",
              "      gap: 12px;\n",
              "    }\n",
              "\n",
              "    .colab-df-convert {\n",
              "      background-color: #E8F0FE;\n",
              "      border: none;\n",
              "      border-radius: 50%;\n",
              "      cursor: pointer;\n",
              "      display: none;\n",
              "      fill: #1967D2;\n",
              "      height: 32px;\n",
              "      padding: 0 0 0 0;\n",
              "      width: 32px;\n",
              "    }\n",
              "\n",
              "    .colab-df-convert:hover {\n",
              "      background-color: #E2EBFA;\n",
              "      box-shadow: 0px 1px 2px rgba(60, 64, 67, 0.3), 0px 1px 3px 1px rgba(60, 64, 67, 0.15);\n",
              "      fill: #174EA6;\n",
              "    }\n",
              "\n",
              "    .colab-df-buttons div {\n",
              "      margin-bottom: 4px;\n",
              "    }\n",
              "\n",
              "    [theme=dark] .colab-df-convert {\n",
              "      background-color: #3B4455;\n",
              "      fill: #D2E3FC;\n",
              "    }\n",
              "\n",
              "    [theme=dark] .colab-df-convert:hover {\n",
              "      background-color: #434B5C;\n",
              "      box-shadow: 0px 1px 3px 1px rgba(0, 0, 0, 0.15);\n",
              "      filter: drop-shadow(0px 1px 2px rgba(0, 0, 0, 0.3));\n",
              "      fill: #FFFFFF;\n",
              "    }\n",
              "  </style>\n",
              "\n",
              "    <script>\n",
              "      const buttonEl =\n",
              "        document.querySelector('#df-bd9f541f-47b0-43b4-84af-8603026e36e9 button.colab-df-convert');\n",
              "      buttonEl.style.display =\n",
              "        google.colab.kernel.accessAllowed ? 'block' : 'none';\n",
              "\n",
              "      async function convertToInteractive(key) {\n",
              "        const element = document.querySelector('#df-bd9f541f-47b0-43b4-84af-8603026e36e9');\n",
              "        const dataTable =\n",
              "          await google.colab.kernel.invokeFunction('convertToInteractive',\n",
              "                                                    [key], {});\n",
              "        if (!dataTable) return;\n",
              "\n",
              "        const docLinkHtml = 'Like what you see? Visit the ' +\n",
              "          '<a target=\"_blank\" href=https://colab.research.google.com/notebooks/data_table.ipynb>data table notebook</a>'\n",
              "          + ' to learn more about interactive tables.';\n",
              "        element.innerHTML = '';\n",
              "        dataTable['output_type'] = 'display_data';\n",
              "        await google.colab.output.renderOutput(dataTable, element);\n",
              "        const docLink = document.createElement('div');\n",
              "        docLink.innerHTML = docLinkHtml;\n",
              "        element.appendChild(docLink);\n",
              "      }\n",
              "    </script>\n",
              "  </div>\n",
              "\n",
              "\n",
              "<div id=\"df-8ec2f260-eed9-44f3-9d29-4de0225e8a4f\">\n",
              "  <button class=\"colab-df-quickchart\" onclick=\"quickchart('df-8ec2f260-eed9-44f3-9d29-4de0225e8a4f')\"\n",
              "            title=\"Suggest charts\"\n",
              "            style=\"display:none;\">\n",
              "\n",
              "<svg xmlns=\"http://www.w3.org/2000/svg\" height=\"24px\"viewBox=\"0 0 24 24\"\n",
              "     width=\"24px\">\n",
              "    <g>\n",
              "        <path d=\"M19 3H5c-1.1 0-2 .9-2 2v14c0 1.1.9 2 2 2h14c1.1 0 2-.9 2-2V5c0-1.1-.9-2-2-2zM9 17H7v-7h2v7zm4 0h-2V7h2v10zm4 0h-2v-4h2v4z\"/>\n",
              "    </g>\n",
              "</svg>\n",
              "  </button>\n",
              "\n",
              "<style>\n",
              "  .colab-df-quickchart {\n",
              "      --bg-color: #E8F0FE;\n",
              "      --fill-color: #1967D2;\n",
              "      --hover-bg-color: #E2EBFA;\n",
              "      --hover-fill-color: #174EA6;\n",
              "      --disabled-fill-color: #AAA;\n",
              "      --disabled-bg-color: #DDD;\n",
              "  }\n",
              "\n",
              "  [theme=dark] .colab-df-quickchart {\n",
              "      --bg-color: #3B4455;\n",
              "      --fill-color: #D2E3FC;\n",
              "      --hover-bg-color: #434B5C;\n",
              "      --hover-fill-color: #FFFFFF;\n",
              "      --disabled-bg-color: #3B4455;\n",
              "      --disabled-fill-color: #666;\n",
              "  }\n",
              "\n",
              "  .colab-df-quickchart {\n",
              "    background-color: var(--bg-color);\n",
              "    border: none;\n",
              "    border-radius: 50%;\n",
              "    cursor: pointer;\n",
              "    display: none;\n",
              "    fill: var(--fill-color);\n",
              "    height: 32px;\n",
              "    padding: 0;\n",
              "    width: 32px;\n",
              "  }\n",
              "\n",
              "  .colab-df-quickchart:hover {\n",
              "    background-color: var(--hover-bg-color);\n",
              "    box-shadow: 0 1px 2px rgba(60, 64, 67, 0.3), 0 1px 3px 1px rgba(60, 64, 67, 0.15);\n",
              "    fill: var(--button-hover-fill-color);\n",
              "  }\n",
              "\n",
              "  .colab-df-quickchart-complete:disabled,\n",
              "  .colab-df-quickchart-complete:disabled:hover {\n",
              "    background-color: var(--disabled-bg-color);\n",
              "    fill: var(--disabled-fill-color);\n",
              "    box-shadow: none;\n",
              "  }\n",
              "\n",
              "  .colab-df-spinner {\n",
              "    border: 2px solid var(--fill-color);\n",
              "    border-color: transparent;\n",
              "    border-bottom-color: var(--fill-color);\n",
              "    animation:\n",
              "      spin 1s steps(1) infinite;\n",
              "  }\n",
              "\n",
              "  @keyframes spin {\n",
              "    0% {\n",
              "      border-color: transparent;\n",
              "      border-bottom-color: var(--fill-color);\n",
              "      border-left-color: var(--fill-color);\n",
              "    }\n",
              "    20% {\n",
              "      border-color: transparent;\n",
              "      border-left-color: var(--fill-color);\n",
              "      border-top-color: var(--fill-color);\n",
              "    }\n",
              "    30% {\n",
              "      border-color: transparent;\n",
              "      border-left-color: var(--fill-color);\n",
              "      border-top-color: var(--fill-color);\n",
              "      border-right-color: var(--fill-color);\n",
              "    }\n",
              "    40% {\n",
              "      border-color: transparent;\n",
              "      border-right-color: var(--fill-color);\n",
              "      border-top-color: var(--fill-color);\n",
              "    }\n",
              "    60% {\n",
              "      border-color: transparent;\n",
              "      border-right-color: var(--fill-color);\n",
              "    }\n",
              "    80% {\n",
              "      border-color: transparent;\n",
              "      border-right-color: var(--fill-color);\n",
              "      border-bottom-color: var(--fill-color);\n",
              "    }\n",
              "    90% {\n",
              "      border-color: transparent;\n",
              "      border-bottom-color: var(--fill-color);\n",
              "    }\n",
              "  }\n",
              "</style>\n",
              "\n",
              "  <script>\n",
              "    async function quickchart(key) {\n",
              "      const quickchartButtonEl =\n",
              "        document.querySelector('#' + key + ' button');\n",
              "      quickchartButtonEl.disabled = true;  // To prevent multiple clicks.\n",
              "      quickchartButtonEl.classList.add('colab-df-spinner');\n",
              "      try {\n",
              "        const charts = await google.colab.kernel.invokeFunction(\n",
              "            'suggestCharts', [key], {});\n",
              "      } catch (error) {\n",
              "        console.error('Error during call to suggestCharts:', error);\n",
              "      }\n",
              "      quickchartButtonEl.classList.remove('colab-df-spinner');\n",
              "      quickchartButtonEl.classList.add('colab-df-quickchart-complete');\n",
              "    }\n",
              "    (() => {\n",
              "      let quickchartButtonEl =\n",
              "        document.querySelector('#df-8ec2f260-eed9-44f3-9d29-4de0225e8a4f button');\n",
              "      quickchartButtonEl.style.display =\n",
              "        google.colab.kernel.accessAllowed ? 'block' : 'none';\n",
              "    })();\n",
              "  </script>\n",
              "</div>\n",
              "\n",
              "    </div>\n",
              "  </div>\n"
            ],
            "application/vnd.google.colaboratory.intrinsic+json": {
              "type": "dataframe",
              "variable_name": "df_final_modelagem"
            }
          },
          "metadata": {},
          "execution_count": 7
        }
      ],
      "source": [
        "df_final_modelagem.head()"
      ]
    },
    {
      "cell_type": "markdown",
      "metadata": {
        "id": "uGaLzsiYKIsw"
      },
      "source": [
        "### 5.3.1 Separar as variaveis explicativas e variavel alvo"
      ]
    },
    {
      "cell_type": "code",
      "execution_count": null,
      "metadata": {
        "collapsed": true,
        "id": "tb80NDYIeBKp"
      },
      "outputs": [],
      "source": [
        "# Selecionando variaveis explicativas\n",
        "X = df_final_modelagem.drop('bullied_at_school', axis=1)"
      ]
    },
    {
      "cell_type": "code",
      "execution_count": null,
      "metadata": {
        "id": "sYu2xbvHKL8S"
      },
      "outputs": [],
      "source": [
        "# Selecionar variavel alvo\n",
        "y = df_final_modelagem['bullied_at_school']"
      ]
    },
    {
      "cell_type": "markdown",
      "metadata": {
        "id": "G-ThhsdxLW6C"
      },
      "source": [
        "###5.3.3. Separar em dados de treino e dados de teste"
      ]
    },
    {
      "cell_type": "code",
      "execution_count": null,
      "metadata": {
        "id": "N9FFX1TXudJI"
      },
      "outputs": [],
      "source": [
        "X_treino, X_teste, y_treino, y_teste= train_test_split(X, y, test_size=0.15, random_state=42, stratify=y)"
      ]
    },
    {
      "cell_type": "markdown",
      "metadata": {
        "id": "ifvKAZHSLc7D"
      },
      "source": [
        "### 5.3.4. Escalonar os dados de treino e dados de teste"
      ]
    },
    {
      "cell_type": "code",
      "execution_count": null,
      "metadata": {
        "id": "s72pa99QLfk_"
      },
      "outputs": [],
      "source": [
        "escalonar = StandardScaler()\n",
        "X_treino_escalonado = escalonar.fit_transform(X_treino)\n",
        "X_teste_escalonado = escalonar.transform(X_teste)"
      ]
    },
    {
      "cell_type": "markdown",
      "metadata": {
        "id": "G7WuMFbDLygt"
      },
      "source": [
        "Resultados:\n",
        "- Escalonar separadamente os dados de treino e teste evita data leakage, garantindo que as transformações sejam baseadas apenas no conjunto de treino. Isso assegura uma avaliação justa e simula corretamente como o modelo lidaria com dados novos."
      ]
    },
    {
      "cell_type": "markdown",
      "metadata": {
        "id": "tzTTUut_L3nH"
      },
      "source": [
        "### 5.3.5. Modelo Regressão Logistica"
      ]
    },
    {
      "cell_type": "code",
      "execution_count": null,
      "metadata": {
        "id": "cSh7vi6mL0WU"
      },
      "outputs": [],
      "source": [
        "# Instanciar o modelo de Regressão Logistica\n",
        "model_LR = LogisticRegression(max_iter=1000, class_weight='balanced')"
      ]
    },
    {
      "cell_type": "code",
      "execution_count": null,
      "metadata": {
        "colab": {
          "base_uri": "https://localhost:8080/",
          "height": 80
        },
        "id": "wrLm2xY0MDab",
        "outputId": "b371f9a5-e792-4bd2-bdc3-9de76ef0d7a6"
      },
      "outputs": [
        {
          "output_type": "execute_result",
          "data": {
            "text/plain": [
              "LogisticRegression(class_weight='balanced', max_iter=1000)"
            ],
            "text/html": [
              "<style>#sk-container-id-1 {\n",
              "  /* Definition of color scheme common for light and dark mode */\n",
              "  --sklearn-color-text: #000;\n",
              "  --sklearn-color-text-muted: #666;\n",
              "  --sklearn-color-line: gray;\n",
              "  /* Definition of color scheme for unfitted estimators */\n",
              "  --sklearn-color-unfitted-level-0: #fff5e6;\n",
              "  --sklearn-color-unfitted-level-1: #f6e4d2;\n",
              "  --sklearn-color-unfitted-level-2: #ffe0b3;\n",
              "  --sklearn-color-unfitted-level-3: chocolate;\n",
              "  /* Definition of color scheme for fitted estimators */\n",
              "  --sklearn-color-fitted-level-0: #f0f8ff;\n",
              "  --sklearn-color-fitted-level-1: #d4ebff;\n",
              "  --sklearn-color-fitted-level-2: #b3dbfd;\n",
              "  --sklearn-color-fitted-level-3: cornflowerblue;\n",
              "\n",
              "  /* Specific color for light theme */\n",
              "  --sklearn-color-text-on-default-background: var(--sg-text-color, var(--theme-code-foreground, var(--jp-content-font-color1, black)));\n",
              "  --sklearn-color-background: var(--sg-background-color, var(--theme-background, var(--jp-layout-color0, white)));\n",
              "  --sklearn-color-border-box: var(--sg-text-color, var(--theme-code-foreground, var(--jp-content-font-color1, black)));\n",
              "  --sklearn-color-icon: #696969;\n",
              "\n",
              "  @media (prefers-color-scheme: dark) {\n",
              "    /* Redefinition of color scheme for dark theme */\n",
              "    --sklearn-color-text-on-default-background: var(--sg-text-color, var(--theme-code-foreground, var(--jp-content-font-color1, white)));\n",
              "    --sklearn-color-background: var(--sg-background-color, var(--theme-background, var(--jp-layout-color0, #111)));\n",
              "    --sklearn-color-border-box: var(--sg-text-color, var(--theme-code-foreground, var(--jp-content-font-color1, white)));\n",
              "    --sklearn-color-icon: #878787;\n",
              "  }\n",
              "}\n",
              "\n",
              "#sk-container-id-1 {\n",
              "  color: var(--sklearn-color-text);\n",
              "}\n",
              "\n",
              "#sk-container-id-1 pre {\n",
              "  padding: 0;\n",
              "}\n",
              "\n",
              "#sk-container-id-1 input.sk-hidden--visually {\n",
              "  border: 0;\n",
              "  clip: rect(1px 1px 1px 1px);\n",
              "  clip: rect(1px, 1px, 1px, 1px);\n",
              "  height: 1px;\n",
              "  margin: -1px;\n",
              "  overflow: hidden;\n",
              "  padding: 0;\n",
              "  position: absolute;\n",
              "  width: 1px;\n",
              "}\n",
              "\n",
              "#sk-container-id-1 div.sk-dashed-wrapped {\n",
              "  border: 1px dashed var(--sklearn-color-line);\n",
              "  margin: 0 0.4em 0.5em 0.4em;\n",
              "  box-sizing: border-box;\n",
              "  padding-bottom: 0.4em;\n",
              "  background-color: var(--sklearn-color-background);\n",
              "}\n",
              "\n",
              "#sk-container-id-1 div.sk-container {\n",
              "  /* jupyter's `normalize.less` sets `[hidden] { display: none; }`\n",
              "     but bootstrap.min.css set `[hidden] { display: none !important; }`\n",
              "     so we also need the `!important` here to be able to override the\n",
              "     default hidden behavior on the sphinx rendered scikit-learn.org.\n",
              "     See: https://github.com/scikit-learn/scikit-learn/issues/21755 */\n",
              "  display: inline-block !important;\n",
              "  position: relative;\n",
              "}\n",
              "\n",
              "#sk-container-id-1 div.sk-text-repr-fallback {\n",
              "  display: none;\n",
              "}\n",
              "\n",
              "div.sk-parallel-item,\n",
              "div.sk-serial,\n",
              "div.sk-item {\n",
              "  /* draw centered vertical line to link estimators */\n",
              "  background-image: linear-gradient(var(--sklearn-color-text-on-default-background), var(--sklearn-color-text-on-default-background));\n",
              "  background-size: 2px 100%;\n",
              "  background-repeat: no-repeat;\n",
              "  background-position: center center;\n",
              "}\n",
              "\n",
              "/* Parallel-specific style estimator block */\n",
              "\n",
              "#sk-container-id-1 div.sk-parallel-item::after {\n",
              "  content: \"\";\n",
              "  width: 100%;\n",
              "  border-bottom: 2px solid var(--sklearn-color-text-on-default-background);\n",
              "  flex-grow: 1;\n",
              "}\n",
              "\n",
              "#sk-container-id-1 div.sk-parallel {\n",
              "  display: flex;\n",
              "  align-items: stretch;\n",
              "  justify-content: center;\n",
              "  background-color: var(--sklearn-color-background);\n",
              "  position: relative;\n",
              "}\n",
              "\n",
              "#sk-container-id-1 div.sk-parallel-item {\n",
              "  display: flex;\n",
              "  flex-direction: column;\n",
              "}\n",
              "\n",
              "#sk-container-id-1 div.sk-parallel-item:first-child::after {\n",
              "  align-self: flex-end;\n",
              "  width: 50%;\n",
              "}\n",
              "\n",
              "#sk-container-id-1 div.sk-parallel-item:last-child::after {\n",
              "  align-self: flex-start;\n",
              "  width: 50%;\n",
              "}\n",
              "\n",
              "#sk-container-id-1 div.sk-parallel-item:only-child::after {\n",
              "  width: 0;\n",
              "}\n",
              "\n",
              "/* Serial-specific style estimator block */\n",
              "\n",
              "#sk-container-id-1 div.sk-serial {\n",
              "  display: flex;\n",
              "  flex-direction: column;\n",
              "  align-items: center;\n",
              "  background-color: var(--sklearn-color-background);\n",
              "  padding-right: 1em;\n",
              "  padding-left: 1em;\n",
              "}\n",
              "\n",
              "\n",
              "/* Toggleable style: style used for estimator/Pipeline/ColumnTransformer box that is\n",
              "clickable and can be expanded/collapsed.\n",
              "- Pipeline and ColumnTransformer use this feature and define the default style\n",
              "- Estimators will overwrite some part of the style using the `sk-estimator` class\n",
              "*/\n",
              "\n",
              "/* Pipeline and ColumnTransformer style (default) */\n",
              "\n",
              "#sk-container-id-1 div.sk-toggleable {\n",
              "  /* Default theme specific background. It is overwritten whether we have a\n",
              "  specific estimator or a Pipeline/ColumnTransformer */\n",
              "  background-color: var(--sklearn-color-background);\n",
              "}\n",
              "\n",
              "/* Toggleable label */\n",
              "#sk-container-id-1 label.sk-toggleable__label {\n",
              "  cursor: pointer;\n",
              "  display: flex;\n",
              "  width: 100%;\n",
              "  margin-bottom: 0;\n",
              "  padding: 0.5em;\n",
              "  box-sizing: border-box;\n",
              "  text-align: center;\n",
              "  align-items: start;\n",
              "  justify-content: space-between;\n",
              "  gap: 0.5em;\n",
              "}\n",
              "\n",
              "#sk-container-id-1 label.sk-toggleable__label .caption {\n",
              "  font-size: 0.6rem;\n",
              "  font-weight: lighter;\n",
              "  color: var(--sklearn-color-text-muted);\n",
              "}\n",
              "\n",
              "#sk-container-id-1 label.sk-toggleable__label-arrow:before {\n",
              "  /* Arrow on the left of the label */\n",
              "  content: \"▸\";\n",
              "  float: left;\n",
              "  margin-right: 0.25em;\n",
              "  color: var(--sklearn-color-icon);\n",
              "}\n",
              "\n",
              "#sk-container-id-1 label.sk-toggleable__label-arrow:hover:before {\n",
              "  color: var(--sklearn-color-text);\n",
              "}\n",
              "\n",
              "/* Toggleable content - dropdown */\n",
              "\n",
              "#sk-container-id-1 div.sk-toggleable__content {\n",
              "  max-height: 0;\n",
              "  max-width: 0;\n",
              "  overflow: hidden;\n",
              "  text-align: left;\n",
              "  /* unfitted */\n",
              "  background-color: var(--sklearn-color-unfitted-level-0);\n",
              "}\n",
              "\n",
              "#sk-container-id-1 div.sk-toggleable__content.fitted {\n",
              "  /* fitted */\n",
              "  background-color: var(--sklearn-color-fitted-level-0);\n",
              "}\n",
              "\n",
              "#sk-container-id-1 div.sk-toggleable__content pre {\n",
              "  margin: 0.2em;\n",
              "  border-radius: 0.25em;\n",
              "  color: var(--sklearn-color-text);\n",
              "  /* unfitted */\n",
              "  background-color: var(--sklearn-color-unfitted-level-0);\n",
              "}\n",
              "\n",
              "#sk-container-id-1 div.sk-toggleable__content.fitted pre {\n",
              "  /* unfitted */\n",
              "  background-color: var(--sklearn-color-fitted-level-0);\n",
              "}\n",
              "\n",
              "#sk-container-id-1 input.sk-toggleable__control:checked~div.sk-toggleable__content {\n",
              "  /* Expand drop-down */\n",
              "  max-height: 200px;\n",
              "  max-width: 100%;\n",
              "  overflow: auto;\n",
              "}\n",
              "\n",
              "#sk-container-id-1 input.sk-toggleable__control:checked~label.sk-toggleable__label-arrow:before {\n",
              "  content: \"▾\";\n",
              "}\n",
              "\n",
              "/* Pipeline/ColumnTransformer-specific style */\n",
              "\n",
              "#sk-container-id-1 div.sk-label input.sk-toggleable__control:checked~label.sk-toggleable__label {\n",
              "  color: var(--sklearn-color-text);\n",
              "  background-color: var(--sklearn-color-unfitted-level-2);\n",
              "}\n",
              "\n",
              "#sk-container-id-1 div.sk-label.fitted input.sk-toggleable__control:checked~label.sk-toggleable__label {\n",
              "  background-color: var(--sklearn-color-fitted-level-2);\n",
              "}\n",
              "\n",
              "/* Estimator-specific style */\n",
              "\n",
              "/* Colorize estimator box */\n",
              "#sk-container-id-1 div.sk-estimator input.sk-toggleable__control:checked~label.sk-toggleable__label {\n",
              "  /* unfitted */\n",
              "  background-color: var(--sklearn-color-unfitted-level-2);\n",
              "}\n",
              "\n",
              "#sk-container-id-1 div.sk-estimator.fitted input.sk-toggleable__control:checked~label.sk-toggleable__label {\n",
              "  /* fitted */\n",
              "  background-color: var(--sklearn-color-fitted-level-2);\n",
              "}\n",
              "\n",
              "#sk-container-id-1 div.sk-label label.sk-toggleable__label,\n",
              "#sk-container-id-1 div.sk-label label {\n",
              "  /* The background is the default theme color */\n",
              "  color: var(--sklearn-color-text-on-default-background);\n",
              "}\n",
              "\n",
              "/* On hover, darken the color of the background */\n",
              "#sk-container-id-1 div.sk-label:hover label.sk-toggleable__label {\n",
              "  color: var(--sklearn-color-text);\n",
              "  background-color: var(--sklearn-color-unfitted-level-2);\n",
              "}\n",
              "\n",
              "/* Label box, darken color on hover, fitted */\n",
              "#sk-container-id-1 div.sk-label.fitted:hover label.sk-toggleable__label.fitted {\n",
              "  color: var(--sklearn-color-text);\n",
              "  background-color: var(--sklearn-color-fitted-level-2);\n",
              "}\n",
              "\n",
              "/* Estimator label */\n",
              "\n",
              "#sk-container-id-1 div.sk-label label {\n",
              "  font-family: monospace;\n",
              "  font-weight: bold;\n",
              "  display: inline-block;\n",
              "  line-height: 1.2em;\n",
              "}\n",
              "\n",
              "#sk-container-id-1 div.sk-label-container {\n",
              "  text-align: center;\n",
              "}\n",
              "\n",
              "/* Estimator-specific */\n",
              "#sk-container-id-1 div.sk-estimator {\n",
              "  font-family: monospace;\n",
              "  border: 1px dotted var(--sklearn-color-border-box);\n",
              "  border-radius: 0.25em;\n",
              "  box-sizing: border-box;\n",
              "  margin-bottom: 0.5em;\n",
              "  /* unfitted */\n",
              "  background-color: var(--sklearn-color-unfitted-level-0);\n",
              "}\n",
              "\n",
              "#sk-container-id-1 div.sk-estimator.fitted {\n",
              "  /* fitted */\n",
              "  background-color: var(--sklearn-color-fitted-level-0);\n",
              "}\n",
              "\n",
              "/* on hover */\n",
              "#sk-container-id-1 div.sk-estimator:hover {\n",
              "  /* unfitted */\n",
              "  background-color: var(--sklearn-color-unfitted-level-2);\n",
              "}\n",
              "\n",
              "#sk-container-id-1 div.sk-estimator.fitted:hover {\n",
              "  /* fitted */\n",
              "  background-color: var(--sklearn-color-fitted-level-2);\n",
              "}\n",
              "\n",
              "/* Specification for estimator info (e.g. \"i\" and \"?\") */\n",
              "\n",
              "/* Common style for \"i\" and \"?\" */\n",
              "\n",
              ".sk-estimator-doc-link,\n",
              "a:link.sk-estimator-doc-link,\n",
              "a:visited.sk-estimator-doc-link {\n",
              "  float: right;\n",
              "  font-size: smaller;\n",
              "  line-height: 1em;\n",
              "  font-family: monospace;\n",
              "  background-color: var(--sklearn-color-background);\n",
              "  border-radius: 1em;\n",
              "  height: 1em;\n",
              "  width: 1em;\n",
              "  text-decoration: none !important;\n",
              "  margin-left: 0.5em;\n",
              "  text-align: center;\n",
              "  /* unfitted */\n",
              "  border: var(--sklearn-color-unfitted-level-1) 1pt solid;\n",
              "  color: var(--sklearn-color-unfitted-level-1);\n",
              "}\n",
              "\n",
              ".sk-estimator-doc-link.fitted,\n",
              "a:link.sk-estimator-doc-link.fitted,\n",
              "a:visited.sk-estimator-doc-link.fitted {\n",
              "  /* fitted */\n",
              "  border: var(--sklearn-color-fitted-level-1) 1pt solid;\n",
              "  color: var(--sklearn-color-fitted-level-1);\n",
              "}\n",
              "\n",
              "/* On hover */\n",
              "div.sk-estimator:hover .sk-estimator-doc-link:hover,\n",
              ".sk-estimator-doc-link:hover,\n",
              "div.sk-label-container:hover .sk-estimator-doc-link:hover,\n",
              ".sk-estimator-doc-link:hover {\n",
              "  /* unfitted */\n",
              "  background-color: var(--sklearn-color-unfitted-level-3);\n",
              "  color: var(--sklearn-color-background);\n",
              "  text-decoration: none;\n",
              "}\n",
              "\n",
              "div.sk-estimator.fitted:hover .sk-estimator-doc-link.fitted:hover,\n",
              ".sk-estimator-doc-link.fitted:hover,\n",
              "div.sk-label-container:hover .sk-estimator-doc-link.fitted:hover,\n",
              ".sk-estimator-doc-link.fitted:hover {\n",
              "  /* fitted */\n",
              "  background-color: var(--sklearn-color-fitted-level-3);\n",
              "  color: var(--sklearn-color-background);\n",
              "  text-decoration: none;\n",
              "}\n",
              "\n",
              "/* Span, style for the box shown on hovering the info icon */\n",
              ".sk-estimator-doc-link span {\n",
              "  display: none;\n",
              "  z-index: 9999;\n",
              "  position: relative;\n",
              "  font-weight: normal;\n",
              "  right: .2ex;\n",
              "  padding: .5ex;\n",
              "  margin: .5ex;\n",
              "  width: min-content;\n",
              "  min-width: 20ex;\n",
              "  max-width: 50ex;\n",
              "  color: var(--sklearn-color-text);\n",
              "  box-shadow: 2pt 2pt 4pt #999;\n",
              "  /* unfitted */\n",
              "  background: var(--sklearn-color-unfitted-level-0);\n",
              "  border: .5pt solid var(--sklearn-color-unfitted-level-3);\n",
              "}\n",
              "\n",
              ".sk-estimator-doc-link.fitted span {\n",
              "  /* fitted */\n",
              "  background: var(--sklearn-color-fitted-level-0);\n",
              "  border: var(--sklearn-color-fitted-level-3);\n",
              "}\n",
              "\n",
              ".sk-estimator-doc-link:hover span {\n",
              "  display: block;\n",
              "}\n",
              "\n",
              "/* \"?\"-specific style due to the `<a>` HTML tag */\n",
              "\n",
              "#sk-container-id-1 a.estimator_doc_link {\n",
              "  float: right;\n",
              "  font-size: 1rem;\n",
              "  line-height: 1em;\n",
              "  font-family: monospace;\n",
              "  background-color: var(--sklearn-color-background);\n",
              "  border-radius: 1rem;\n",
              "  height: 1rem;\n",
              "  width: 1rem;\n",
              "  text-decoration: none;\n",
              "  /* unfitted */\n",
              "  color: var(--sklearn-color-unfitted-level-1);\n",
              "  border: var(--sklearn-color-unfitted-level-1) 1pt solid;\n",
              "}\n",
              "\n",
              "#sk-container-id-1 a.estimator_doc_link.fitted {\n",
              "  /* fitted */\n",
              "  border: var(--sklearn-color-fitted-level-1) 1pt solid;\n",
              "  color: var(--sklearn-color-fitted-level-1);\n",
              "}\n",
              "\n",
              "/* On hover */\n",
              "#sk-container-id-1 a.estimator_doc_link:hover {\n",
              "  /* unfitted */\n",
              "  background-color: var(--sklearn-color-unfitted-level-3);\n",
              "  color: var(--sklearn-color-background);\n",
              "  text-decoration: none;\n",
              "}\n",
              "\n",
              "#sk-container-id-1 a.estimator_doc_link.fitted:hover {\n",
              "  /* fitted */\n",
              "  background-color: var(--sklearn-color-fitted-level-3);\n",
              "}\n",
              "</style><div id=\"sk-container-id-1\" class=\"sk-top-container\"><div class=\"sk-text-repr-fallback\"><pre>LogisticRegression(class_weight=&#x27;balanced&#x27;, max_iter=1000)</pre><b>In a Jupyter environment, please rerun this cell to show the HTML representation or trust the notebook. <br />On GitHub, the HTML representation is unable to render, please try loading this page with nbviewer.org.</b></div><div class=\"sk-container\" hidden><div class=\"sk-item\"><div class=\"sk-estimator fitted sk-toggleable\"><input class=\"sk-toggleable__control sk-hidden--visually\" id=\"sk-estimator-id-1\" type=\"checkbox\" checked><label for=\"sk-estimator-id-1\" class=\"sk-toggleable__label fitted sk-toggleable__label-arrow\"><div><div>LogisticRegression</div></div><div><a class=\"sk-estimator-doc-link fitted\" rel=\"noreferrer\" target=\"_blank\" href=\"https://scikit-learn.org/1.6/modules/generated/sklearn.linear_model.LogisticRegression.html\">?<span>Documentation for LogisticRegression</span></a><span class=\"sk-estimator-doc-link fitted\">i<span>Fitted</span></span></div></label><div class=\"sk-toggleable__content fitted\"><pre>LogisticRegression(class_weight=&#x27;balanced&#x27;, max_iter=1000)</pre></div> </div></div></div></div>"
            ]
          },
          "metadata": {},
          "execution_count": 13
        }
      ],
      "source": [
        "# Treinar modelo\n",
        "model_LR.fit(X_treino, y_treino)"
      ]
    },
    {
      "cell_type": "code",
      "execution_count": null,
      "metadata": {
        "id": "TNIBvcEbMHx3"
      },
      "outputs": [],
      "source": [
        "# Predizer classe com dados de teste\n",
        "y_predito = model_LR.predict(X_teste)"
      ]
    },
    {
      "cell_type": "code",
      "source": [
        "# Exibir relatório de classificação\n",
        "print(classification_report(y_teste, y_predito))"
      ],
      "metadata": {
        "colab": {
          "base_uri": "https://localhost:8080/"
        },
        "id": "ofqZbIn5UQIu",
        "outputId": "17575559-4b1a-4b11-bacf-630f5d4f34a9"
      },
      "execution_count": null,
      "outputs": [
        {
          "output_type": "stream",
          "name": "stdout",
          "text": [
            "              precision    recall  f1-score   support\n",
            "\n",
            "           0       0.89      0.77      0.83      6576\n",
            "           1       0.44      0.65      0.52      1786\n",
            "\n",
            "    accuracy                           0.75      8362\n",
            "   macro avg       0.66      0.71      0.67      8362\n",
            "weighted avg       0.79      0.75      0.76      8362\n",
            "\n"
          ]
        }
      ]
    },
    {
      "cell_type": "markdown",
      "metadata": {
        "id": "8KR10n7FkTg1"
      },
      "source": [
        "### 5.3.6. Técnicas de Balanceamento\n",
        "- Técnicas de Balanceamento e Avaliação de Modelos para Classes Desbalanceadas"
      ]
    },
    {
      "cell_type": "markdown",
      "metadata": {
        "id": "K7GCguOCu4OF"
      },
      "source": [
        "#### 5.3.6.1. Undersampled"
      ]
    },
    {
      "cell_type": "code",
      "execution_count": null,
      "metadata": {
        "colab": {
          "base_uri": "https://localhost:8080/"
        },
        "id": "tROH1N0au34L",
        "outputId": "a2eb7cd3-dbf7-4291-93cb-6576beb60f72"
      },
      "outputs": [
        {
          "output_type": "stream",
          "name": "stdout",
          "text": [
            "              precision    recall  f1-score   support\n",
            "\n",
            "           0       0.89      0.77      0.82      6576\n",
            "           1       0.43      0.65      0.52      1786\n",
            "\n",
            "    accuracy                           0.74      8362\n",
            "   macro avg       0.66      0.71      0.67      8362\n",
            "weighted avg       0.79      0.74      0.76      8362\n",
            "\n"
          ]
        }
      ],
      "source": [
        "# Aplicar RandomUnderSampler para balancear as classes\n",
        "rus = RandomUnderSampler(random_state=42)\n",
        "X_treino_under, y_treino_under = rus.fit_resample(X_treino_escalonado, y_treino)\n",
        "\n",
        "# Instanciar e treinar o modelo de Regressão Logística\n",
        "model_LR_under = LogisticRegression(max_iter=1000, class_weight='balanced')\n",
        "model_LR_under.fit(X_treino_under, y_treino_under)\n",
        "\n",
        "# Predizer a classe com os dados de teste\n",
        "y_pred_under = model_LR_under.predict(X_teste_escalonado)\n",
        "\n",
        "# Exibir relatório de classificação\n",
        "print(classification_report(y_teste, y_pred_under))"
      ]
    },
    {
      "cell_type": "markdown",
      "metadata": {
        "id": "Tc-w1C3Du7my"
      },
      "source": [
        "#### 5.3.6.2. Oversampled"
      ]
    },
    {
      "cell_type": "code",
      "execution_count": null,
      "metadata": {
        "colab": {
          "base_uri": "https://localhost:8080/"
        },
        "id": "9ino7MehtPqo",
        "outputId": "16a1d168-9577-4153-9ff7-65121fde1817"
      },
      "outputs": [
        {
          "output_type": "stream",
          "name": "stdout",
          "text": [
            "              precision    recall  f1-score   support\n",
            "\n",
            "           0       0.89      0.77      0.83      6576\n",
            "           1       0.43      0.64      0.52      1786\n",
            "\n",
            "    accuracy                           0.75      8362\n",
            "   macro avg       0.66      0.71      0.67      8362\n",
            "weighted avg       0.79      0.75      0.76      8362\n",
            "\n"
          ]
        }
      ],
      "source": [
        "# Aplicar SMOTE para balancear as classes\n",
        "smote = SMOTE(random_state=42)\n",
        "X_treino_over, y_treino_over = smote.fit_resample(X_treino_escalonado, y_treino)\n",
        "\n",
        "# Instanciar e treinar o modelo de Regressão Logística\n",
        "model_LR_over = LogisticRegression(max_iter=1000, class_weight='balanced')\n",
        "model_LR_over.fit(X_treino_over, y_treino_over)\n",
        "\n",
        "# Predizer a classe com os dados de teste\n",
        "y_pred_over = model_LR_over.predict(X_teste_escalonado)\n",
        "\n",
        "# Exibir relatório de classificação\n",
        "print(classification_report(y_teste, y_pred_over))"
      ]
    },
    {
      "cell_type": "markdown",
      "metadata": {
        "id": "kIHISh8_wt7R"
      },
      "source": [
        "Resultados:\n",
        "- Foi necessário aplicar técnicas de balanceamento de classes para a variável-alvo Bullied_at_school, a fim de minimizar o impacto do desbalanceamento nas métricas do modelo.\n",
        "- Utilizou-se Random Undersampling para reduzir o número de observações da classe majoritária, equilibrando sua representatividade ao diminuir seu peso desproporcional.\n",
        "- Empregou-se o SMOTE (Synthetic Minority Oversampling Technique) como método de oversampling, gerando novas amostras sintéticas para a classe minoritária, igualando sua representatividade à da classe majoritária.\n",
        "- Na métrica acurácia, o modelo treinado com oversampling apresentou desempenho ligeiramente superior ao treinado com undersampling, com valores de 0,75 e 0,74, respectivamente.\n",
        "- Na métrica recall, o modelo com undersampling obteve desempenho ligeiramente melhor do que o com oversampling, com valores de 0,65 e 0,64, respectivamente.\n",
        "- Isso indica que o undersampling foi mais eficaz em capturar padrões relevantes da classe minoritária.\n",
        "- Na métrica precision, ambos os métodos apresentaram os mesmos resultados: 0,89 para a classe 0 e 0,43 para a classe 1.\n",
        "- As métricas do modelo original e do modelo com oversampling foram idênticas, sugerindo que o oversampling não teve impacto significativo no desempenho geral do modelo."
      ]
    },
    {
      "cell_type": "markdown",
      "metadata": {
        "id": "1FKvLdYfufhn"
      },
      "source": [
        "### 5.3.7. GridSearch"
      ]
    },
    {
      "cell_type": "code",
      "execution_count": null,
      "metadata": {
        "id": "VinYdLQTufMA"
      },
      "outputs": [],
      "source": [
        "# Definindo o intervalo de parâmetros a serem testados\n",
        "param_grid = {\n",
        "    'C': [0.01, 0.1, 1, 10],  # Regularização\n",
        "    'penalty': ['l1', 'l2', 'elasticnet'],  # Tipos de penalização\n",
        "    'solver': ['liblinear', 'saga', 'newton-cg', 'lbfgs'],  # Solvers diferentes\n",
        "    'max_iter': [100, 200, 500, 1000],  # Iterações para convergência\n",
        "    'tol': [1e-4, 1e-3, 1e-2],  # Critério de convergência\n",
        "    'class_weight': ['balanced', None],  # Pesos das classes\n",
        "    'fit_intercept': [True, False],  # Ajustar o intercepto\n",
        "    'warm_start': [True, False]  # Se usar soluções anteriores como inicialização\n",
        "}"
      ]
    },
    {
      "cell_type": "code",
      "execution_count": null,
      "metadata": {
        "colab": {
          "base_uri": "https://localhost:8080/",
          "height": 53
        },
        "id": "gyLHKDKqvVH5",
        "outputId": "1195b7af-721a-400a-dbc4-2f8a97ba6d52"
      },
      "outputs": [
        {
          "output_type": "execute_result",
          "data": {
            "text/plain": [
              "' # Criando o objeto GridSearchCV\\ngrid_search = GridSearchCV(estimator=model_LR, param_grid=param_grid, cv=5, scoring=\\'recall\\', n_jobs=-1, verbose=1)\\n\\n# Treinando o modelo com GridSearchCV\\ngrid_search.fit(X_treino_escalonado, y_treino)\\n\\n# Mostrando os melhores parâmetros encontrados\\nprint(\"Melhores parâmetros encontrados:\", grid_search.best_params_)\\n'"
            ],
            "application/vnd.google.colaboratory.intrinsic+json": {
              "type": "string"
            }
          },
          "metadata": {},
          "execution_count": 19
        }
      ],
      "source": [
        "''' # Criando o objeto GridSearchCV\n",
        "grid_search = GridSearchCV(estimator=model_LR, param_grid=param_grid, cv=5, scoring='recall', n_jobs=-1, verbose=1)\n",
        "\n",
        "# Treinando o modelo com GridSearchCV\n",
        "grid_search.fit(X_treino_escalonado, y_treino)\n",
        "\n",
        "# Mostrando os melhores parâmetros encontrados\n",
        "print(\"Melhores parâmetros encontrados:\", grid_search.best_params_)\n",
        "'''"
      ]
    },
    {
      "cell_type": "markdown",
      "metadata": {
        "id": "hyfsC814rBEI"
      },
      "source": [
        "Resultados:\n",
        "- Fitting 5 folds for each of 4608 candidates, totalling 23040 fits\n",
        "- Melhores hiperparâmetros encontrados: {'C': 10, 'class_weight': 'balanced', 'fit_intercept': False, 'max_iter': 1000, 'penalty': 'l1', 'solver': 'liblinear', 'tol': 0.001, 'warm_start': True}"
      ]
    },
    {
      "cell_type": "code",
      "execution_count": null,
      "metadata": {
        "colab": {
          "base_uri": "https://localhost:8080/",
          "height": 70
        },
        "id": "Snjfs4d8vjqW",
        "outputId": "e10a966b-779b-4624-f476-89bcbcf81149"
      },
      "outputs": [
        {
          "output_type": "execute_result",
          "data": {
            "text/plain": [
              "'\\n# Treinando o modelo com os melhores parâmetros\\nbest_model = grid_search.best_estimator_\\n\\n# Predizendo com os dados de teste\\ny_predito = best_model.predict(X_teste_escalonado)\\n\\n# Avaliando a performance do modelo\\nfrom sklearn.metrics import classification_report, recall_score\\nprint(\"Acurácia no conjunto de teste:\", recall_score(y_teste, y_predito))\\nprint(\"Relatório de Classificação:\\n\", classification_report(y_teste, y_predito))\\n'"
            ],
            "application/vnd.google.colaboratory.intrinsic+json": {
              "type": "string"
            }
          },
          "metadata": {},
          "execution_count": 20
        }
      ],
      "source": [
        "'''\n",
        "# Treinando o modelo com os melhores parâmetros\n",
        "best_model = grid_search.best_estimator_\n",
        "\n",
        "# Predizendo com os dados de teste\n",
        "y_predito = best_model.predict(X_teste_escalonado)\n",
        "\n",
        "# Avaliando a performance do modelo\n",
        "from sklearn.metrics import classification_report, recall_score\n",
        "print(\"Acurácia no conjunto de teste:\", recall_score(y_teste, y_predito))\n",
        "print(\"Relatório de Classificação:\\n\", classification_report(y_teste, y_predito))\n",
        "'''"
      ]
    },
    {
      "cell_type": "markdown",
      "source": [
        "Resultados:\n",
        "-  Testar combinações diferentes de parâmetros para encontrar o conjunto que proporciona o melhor desempenho.\n"
      ],
      "metadata": {
        "id": "Mbis0ohOXvOP"
      }
    },
    {
      "cell_type": "markdown",
      "source": [
        "#### 5.3.7.1. Modelo de Regressão Logística final"
      ],
      "metadata": {
        "id": "6vMWDk-12MAk"
      }
    },
    {
      "cell_type": "code",
      "source": [
        "# Instaciar o modelo de Regressão logistíca com os melhores parâmentros\n",
        "melhor_model_LR = LogisticRegression(\n",
        "    C=10,\n",
        "    class_weight='balanced',\n",
        "    fit_intercept=False,\n",
        "    max_iter=1000,\n",
        "    penalty='l1',\n",
        "    solver='liblinear',\n",
        "    tol=0.001,\n",
        "    warm_start=True\n",
        "    )\n",
        "\n",
        "# Treinando o modelo com os parametros encontrados no GridSearchCV\n",
        "melhor_model_LR.fit(X_treino_escalonado, y_treino)\n",
        "\n",
        "# Predizendo com os dados de teste\n",
        "y_predito_melhor = melhor_model_LR.predict(X_teste_escalonado)\n",
        "\n",
        "# Avaliando a performance do modelo\n",
        "print(\"Recall no conjunto de teste:\", recall_score(y_teste, y_predito_melhor))\n",
        "print(\"Relatório de Classificação:\\n\", classification_report(y_teste, y_predito_melhor))"
      ],
      "metadata": {
        "colab": {
          "base_uri": "https://localhost:8080/"
        },
        "id": "TsbNe-fEWps7",
        "outputId": "9919b809-614b-4e23-afe2-5b73f1b4f43b"
      },
      "execution_count": null,
      "outputs": [
        {
          "output_type": "stream",
          "name": "stdout",
          "text": [
            "Recall no conjunto de teste: 0.6998880179171333\n",
            "Relatório de Classificação:\n",
            "               precision    recall  f1-score   support\n",
            "\n",
            "           0       0.90      0.71      0.79      6576\n",
            "           1       0.40      0.70      0.51      1786\n",
            "\n",
            "    accuracy                           0.71      8362\n",
            "   macro avg       0.65      0.71      0.65      8362\n",
            "weighted avg       0.79      0.71      0.73      8362\n",
            "\n"
          ]
        }
      ]
    },
    {
      "cell_type": "markdown",
      "source": [
        "Resultados:\n",
        "- O modelo de regressão logística foi otimizado utilizando o GridSearchCV para encontrar os melhores hiperparâmetros, priorizando a métrica de recall, devido à importância de capturar corretamente os casos positivos (classe 1).\n",
        "- O objetivo é lidar com o desbalanceamento das classes e obter um desempenho satisfatório, especialmente para a classe minoritária.\n",
        "- Hiperparametros selecinados:\n",
        "  - C = 10: Regularização adequada para reduzir overfitting.\n",
        "  - class_weight = 'balanced': Compensação do desbalanceamento das classes.\n",
        "  - fit_intercept = False: Modelo sem intercepto.\n",
        "  - max_iter = 1000: Permitiu a convergência do algoritmo.\n",
        "  - penalty = 'l1': Regularização Lasso, para reduzir coeficientes irrelevantes.\n",
        "  - solver = 'liblinear': Solver eficiente para problemas menores e com penalização L1.\n",
        "  - tol = 0.001: Critério mais rigoroso para a convergência.\n",
        "  - warm_start = True: Reutilização de cálculos anteriores para otimização.\n",
        "\n",
        "- Métricas:\n",
        "  - Recall (Classe 1): O modelo atingiu um recall de 0.70, indicando que 70% dos casos positivos foram corretamente identificados. Este é um resultado sólido para a classe minoritária, considerando o desbalanceamento do dataset.\n",
        "  - Precision (Classe 1): A precisão foi de 0.40, refletindo que 40% das previsões como positivas estavam corretas. Este trade-off é esperado ao priorizar o recall.\n",
        "  - Acurácia Geral: O modelo obteve uma acurácia de 71%, mas esta métrica não é a mais relevante, devido ao desbalanceamento das classes.\n",
        "  - F1-Score: Para a classe 1, o F1-score foi 0.51, indicando um equilíbrio moderado entre precisão e recall.\n",
        "  - O modelo manteve boa precisão (0.90) para a classe majoritária, com um recall de 0.71\n"
      ],
      "metadata": {
        "id": "CIMDomIhYzZs"
      }
    },
    {
      "cell_type": "markdown",
      "metadata": {
        "id": "_BAZhx3Zs731"
      },
      "source": [
        "##### 5.3.7.1.1. Under após gridsearch"
      ]
    },
    {
      "cell_type": "code",
      "execution_count": null,
      "metadata": {
        "id": "gVKC3YWGr4g6",
        "colab": {
          "base_uri": "https://localhost:8080/"
        },
        "outputId": "c2da33d7-8ef9-440a-92aa-47d9411158bc"
      },
      "outputs": [
        {
          "output_type": "stream",
          "name": "stdout",
          "text": [
            "              precision    recall  f1-score   support\n",
            "\n",
            "           0       0.90      0.70      0.79      6576\n",
            "           1       0.39      0.70      0.50      1786\n",
            "\n",
            "    accuracy                           0.70      8362\n",
            "   macro avg       0.64      0.70      0.65      8362\n",
            "weighted avg       0.79      0.70      0.73      8362\n",
            "\n"
          ]
        }
      ],
      "source": [
        "# Aplicar RandomUnderSampler para balancear as classes\n",
        "rus_2 = RandomUnderSampler(random_state=42)\n",
        "X_treino_under, y_treino_under = rus_2.fit_resample(X_treino_escalonado, y_treino)\n",
        "\n",
        "# Instanciar e treinar o modelo de Regressão Logística\n",
        "model_LR_under_2 = LogisticRegression(\n",
        "    C=10,\n",
        "    class_weight='balanced',\n",
        "    fit_intercept=False,\n",
        "    max_iter=1000,\n",
        "    penalty='l1',\n",
        "    solver='liblinear',\n",
        "    tol=0.001,\n",
        "    warm_start=True\n",
        "    )\n",
        "model_LR_under_2.fit(X_treino_under, y_treino_under)\n",
        "\n",
        "# Predizer a classe com os dados de teste\n",
        "y_pred_under_2 = model_LR_under_2.predict(X_teste_escalonado)\n",
        "\n",
        "# Exibir relatório de classificação\n",
        "print(classification_report(y_teste, y_pred_under_2))"
      ]
    },
    {
      "cell_type": "markdown",
      "metadata": {
        "id": "93KTyQLHtC5x"
      },
      "source": [
        "##### 5.3.7.1.2. Over após gridsearch"
      ]
    },
    {
      "cell_type": "code",
      "execution_count": null,
      "metadata": {
        "id": "LGuqw0jOsTaS",
        "colab": {
          "base_uri": "https://localhost:8080/"
        },
        "outputId": "9c3dea61-4710-4d55-b882-680b96479e6f"
      },
      "outputs": [
        {
          "output_type": "stream",
          "name": "stdout",
          "text": [
            "              precision    recall  f1-score   support\n",
            "\n",
            "           0       0.90      0.72      0.80      6576\n",
            "           1       0.40      0.69      0.51      1786\n",
            "\n",
            "    accuracy                           0.71      8362\n",
            "   macro avg       0.65      0.71      0.65      8362\n",
            "weighted avg       0.79      0.71      0.73      8362\n",
            "\n"
          ]
        }
      ],
      "source": [
        "# Aplicar SMOTE para balancear as classes\n",
        "smote_2 = SMOTE(random_state=42)\n",
        "X_treino_over, y_treino_over = smote_2.fit_resample(X_treino_escalonado, y_treino)\n",
        "\n",
        "# Instanciar e treinar o modelo de Regressão Logística\n",
        "model_LR_over_2 = LogisticRegression(\n",
        "    C=10,\n",
        "    class_weight='balanced',\n",
        "    fit_intercept=False,\n",
        "    max_iter=1000,\n",
        "    penalty='l1',\n",
        "    solver='liblinear',\n",
        "    tol=0.001,\n",
        "    warm_start=True\n",
        "    )\n",
        "model_LR_over_2.fit(X_treino_over, y_treino_over)\n",
        "\n",
        "# Predizer a classe com os dados de teste\n",
        "y_pred_over_2 = model_LR_over_2.predict(X_teste_escalonado)\n",
        "\n",
        "# Exibir relatório de classificação\n",
        "print(classification_report(y_teste, y_pred_over_2))"
      ]
    },
    {
      "cell_type": "markdown",
      "metadata": {
        "id": "76HaYp0vr4M4"
      },
      "source": [
        "Resultados:\n",
        "- Comparação Geral:\n",
        "  - Recall (Classe 1): Todos os métodos mantêm o recall em 70%, indicando que todos são igualmente eficazes em capturar os casos positivos.\n",
        "  - Precision (Classe 1): O modelo tunado e o SMOTE mantêm a mesma precisão, enquanto o RandomUnderSampler apresenta uma leve queda (0.39).\n",
        "  - F1-Score: O modelo tunado e o SMOTE obtêm os melhores resultados com 0.51, indicando o melhor equilíbrio entre precisão e recall.\n",
        "  - Accuracy: O modelo tunado e o SMOTE também têm a maior acurácia (0.71).\n",
        "\n",
        "- O modelo tunado (com class_weight='balanced') é a melhor escolha porque:\n",
        "  - Apresenta o mesmo desempenho do SMOTE, mas com menor complexidade computacional (não precisa gerar amostras sintéticas).\n",
        "  - Mantém o recall elevado (70%) para a classe minoritária, essencial para o problema.\n",
        "  - Garante boa precisão e equilíbrio geral entre as métricas.\n",
        "  - Embora o SMOTE seja uma alternativa viável, ele não trouxe ganhos adicionais significativos em relação ao modelo tunado. O RandomUnderSampler teve desempenho inferior, perdendo informações da classe majoritária e apresentando menor precisão e F1-Score.\n",
        "\n"
      ]
    },
    {
      "cell_type": "markdown",
      "metadata": {
        "id": "_WbicM7HPJ99"
      },
      "source": [
        "\n",
        "## 5.4. Análise as variáveis mais relevantes no modelo.\n",
        "\n"
      ]
    },
    {
      "cell_type": "code",
      "execution_count": null,
      "metadata": {
        "collapsed": true,
        "id": "YdOoa2dnxitz",
        "colab": {
          "base_uri": "https://localhost:8080/",
          "height": 1000
        },
        "outputId": "acf52945-8762-4e76-b66c-b3ada96a27a7"
      },
      "outputs": [
        {
          "output_type": "display_data",
          "data": {
            "text/plain": [
              "<Figure size 800x950 with 2 Axes>"
            ],
            "image/png": "[encoded data removed]"
          },
          "metadata": {}
        },
        {
          "output_type": "display_data",
          "data": {
            "text/plain": [
              "<Figure size 800x950 with 1 Axes>"
            ],
            "image/png": "[encoded data removed]"
          },
          "metadata": {}
        },
        {
          "output_type": "display_data",
          "data": {
            "text/plain": [
              "<Figure size 800x650 with 3 Axes>"
            ],
            "image/png": "[encoded data removed]"
          },
          "metadata": {}
        }
      ],
      "source": [
        "explicador = shap.Explainer(melhor_model_LR, X_treino_escalonado)\n",
        "\n",
        "# Calcular os valores SHAP para o conjunto de teste escalonado\n",
        "valores_shap = explicador(X_teste_escalonado)\n",
        "\n",
        "# --- Análise das features mais importantes ---\n",
        "# 1. Resumo global: Gráfico de beeswarm para as features mais importantes\n",
        "shap.summary_plot(valores_shap, X_teste_escalonado, plot_type=\"dot\", feature_names=X.columns)\n",
        "\n",
        "# 2. Resumo global: Gráfico de barras para importância média das features\n",
        "shap.summary_plot(valores_shap, X_teste_escalonado, plot_type=\"bar\", feature_names=X.columns)\n",
        "\n",
        "# 3. Explicação individual: Gráfico de força para um exemplo\n",
        "# Selecionar um índice de teste para analisar\n",
        "indice_exemplo = 0\n",
        "shap.plots.waterfall(valores_shap[indice_exemplo])"
      ]
    },
    {
      "cell_type": "markdown",
      "metadata": {
        "id": "PmlrDrUq29Wa"
      },
      "source": [
        "Resultados:\n",
        "- Os valores SHAP indicam que as seguintes variáveis têm maior impacto na previsão de sofrer bullying (probabilidade estimada pelo modelo):\n",
        "\n",
        "  - Sofrer bullying fora da escola (bullied_off_school_Yes): A variável com maior impacto no modelo. Isso sugere uma forte relação entre experiências de bullying fora da escola e as experiências dentro da escola.\n",
        "  - Cyberbullying (cyberbullied_Yes): Também aparece como uma das variáveis mais importantes, evidenciando que os comportamentos de bullying virtual podem ser um importante preditor.\n",
        "  - Ataques físicos (physically_attacked_0 times): A ausência de ataques físicos parece influenciar fortemente as previsões, possivelmente indicando uma relação inversa.\n",
        "  - Sentir-se solitário (felt_lonely_Never e felt_lonely_Rarely): A ausência de sentimentos de solidão está fortemente associada a um menor risco de bullying.\n",
        "  - Sentir-se frequentemente solitário (often_felt_lonely_Yes): Indica um risco maior, sugerindo que a solidão pode ser tanto uma causa quanto um efeito do bullying.\n",
        "  - Amigos próximos (close_friends_3 or more): Um número maior de amigos próximos pode atuar como um fator de proteção contra o bullying.\n",
        "Pais compreensivos (parents_understand_problems_Always): O suporte parental consistente está associado a um menor risco.\n",
        "  - Alunos gentis e prestativos (students_kind_and_helpful_Always, students_kind_and_helpful_Most of the time): Um ambiente escolar acolhedor está associado a um menor risco de bullying.\n",
        "  - Ausências escolares não autorizadas (missed_school_no_permission_0 days): Menos faltas escolares não autorizadas parecem estar associadas a menor risco, sugerindo que a frequência escolar regular pode ser um fator de proteção.\n",
        "  - Idade (age): A idade tem uma influência considerável, indicando que diferentes faixas etárias podem ter diferentes probabilidades de sofrer bullying.\n",
        "  - Sexo (sex_Female): Embora menos impactante, ser do sexo feminino ainda é uma variável relevante."
      ]
    },
    {
      "cell_type": "code",
      "execution_count": null,
      "metadata": {
        "id": "P3q5TJ8msy5t",
        "colab": {
          "base_uri": "https://localhost:8080/",
          "height": 542
        },
        "outputId": "1ea2e29a-3333-4a9c-a3d5-865d84193099"
      },
      "outputs": [
        {
          "output_type": "display_data",
          "data": {
            "text/html": [
              "<html>\n",
              "<head><meta charset=\"utf-8\" /></head>\n",
              "<body>\n",
              "    <div>            <script src=\"https://cdnjs.cloudflare.com/ajax/libs/mathjax/2.7.5/MathJax.js?config=TeX-AMS-MML_SVG\"></script><script type=\"text/javascript\">if (window.MathJax && window.MathJax.Hub && window.MathJax.Hub.Config) {window.MathJax.Hub.Config({SVG: {font: \"STIX-Web\"}});}</script>                <script type=\"text/javascript\">window.PlotlyConfig = {MathJaxConfig: 'local'};</script>\n",
              "        <script charset=\"utf-8\" src=\"https://cdn.plot.ly/plotly-2.35.2.min.js\"></script>                <div id=\"d1c6cf97-c4eb-469b-a387-cd9afa6b4148\" class=\"plotly-graph-div\" style=\"height:525px; width:100%;\"></div>            <script type=\"text/javascript\">                                    window.PLOTLYENV=window.PLOTLYENV || {};                                    if (document.getElementById(\"d1c6cf97-c4eb-469b-a387-cd9afa6b4148\")) {                    Plotly.newPlot(                        \"d1c6cf97-c4eb-469b-a387-cd9afa6b4148\",                        [{\"alignmentgroup\":\"True\",\"hovertemplate\":\"Importância das Características=%{marker.color}\\u003cbr\\u003eCaracterísticas=%{y}\\u003cextra\\u003e\\u003c\\u002fextra\\u003e\",\"legendgroup\":\"\",\"marker\":{\"color\":[-0.0010166804191308683,0.002374943784712477,0.003440204989058972,-0.005244314065926044,-0.008263736710652171,-0.009624292605286043,0.010108444387267232,0.011126973694853787,-0.011665495949163452,-0.012665849228244661,0.01350060141055782,-0.014905398948442254,0.01575820509966013,0.016245173501842097,-0.01658797223268814,-0.016706922549101187,-0.021707244958397834,-0.02189968983229972,0.02244082475184227,-0.02492073642168179,0.025285907008860853,-0.027397642825553684,-0.02782650445580558,0.02835525275883668,-0.028950431622553327,-0.029930248121538557,-0.03397275914567397,0.03445319477639684,-0.04016620829061961,-0.041104970109925566,0.04857940484563699,-0.054323696413285244,0.06811653245666842,0.06831097976332043,0.07012386501200851,0.07102137577512026,0.08742302413419913,-0.09684007488779947,-0.09983496047783023,-0.11286105689011589,-0.13766472643733485,0.1482471499535467,-0.18606841545003447,-0.19493391964605555,-0.2901347524400265,0.3334248932689104,0.580291223462911],\"coloraxis\":\"coloraxis\",\"pattern\":{\"shape\":\"\"}},\"name\":\"\",\"offsetgroup\":\"\",\"orientation\":\"h\",\"showlegend\":false,\"textposition\":\"auto\",\"x\":[-0.0010166804191308683,0.002374943784712477,0.003440204989058972,-0.005244314065926044,-0.008263736710652171,-0.009624292605286043,0.010108444387267232,0.011126973694853787,-0.011665495949163452,-0.012665849228244661,0.01350060141055782,-0.014905398948442254,0.01575820509966013,0.016245173501842097,-0.01658797223268814,-0.016706922549101187,-0.021707244958397834,-0.02189968983229972,0.02244082475184227,-0.02492073642168179,0.025285907008860853,-0.027397642825553684,-0.02782650445580558,0.02835525275883668,-0.028950431622553327,-0.029930248121538557,-0.03397275914567397,0.03445319477639684,-0.04016620829061961,-0.041104970109925566,0.04857940484563699,-0.054323696413285244,0.06811653245666842,0.06831097976332043,0.07012386501200851,0.07102137577512026,0.08742302413419913,-0.09684007488779947,-0.09983496047783023,-0.11286105689011589,-0.13766472643733485,0.1482471499535467,-0.18606841545003447,-0.19493391964605555,-0.2901347524400265,0.3334248932689104,0.580291223462911],\"xaxis\":\"x\",\"y\":[\"physical_fighting_1 time\",\"missed_classes_no_permission_Yes\",\"physically_attacked_12 or more times\",\"students_kind_and_helpful_Sometimes\",\"physical_fighting_10 or 11 times\",\"missed_school_no_permission_3 to 5 days\",\"physically_attacked_8 or 9 times\",\"close_friends_1\",\"physically_attacked_4 or 5 times\",\"missed_school_no_permission_10 or more days\",\"obese_Yes\",\"physical_fighting_0 times\",\"underweight_Yes\",\"physically_attacked_10 or 11 times\",\"physically_attacked_6 or 7 times\",\"sex_Female\",\"felt_lonely_Most of the time\",\"physical_fighting_6 or 7 times\",\"close_friends_0\",\"physical_fighting_12 or more times\",\"overweight_Yes\",\"physical_fighting_4 or 5 times\",\"physical_fighting_2 or 3 times\",\"parents_understand_problems_Never\",\"close_friends_2\",\"missed_school_no_permission_1 or 2 days\",\"physically_attacked_2 or 3 times\",\"felt_lonely_Sometimes\",\"physical_fighting_8 or 9 times\",\"close_friends_3 or more\",\"parents_understand_problems_Rarely\",\"missed_school_no_permission_0 days\",\"students_kind_and_helpful_Never\",\"parents_understand_problems_Most of the time\",\"students_kind_and_helpful_Rarely\",\"parents_understand_problems_Sometimes\",\"parents_understand_problems_Always\",\"physically_attacked_1 time\",\"felt_lonely_Rarely\",\"students_kind_and_helpful_Most of the time\",\"students_kind_and_helpful_Always\",\"often_felt_lonely_Yes\",\"felt_lonely_Never\",\"age\",\"physically_attacked_0 times\",\"cyberbullied_Yes\",\"bullied_off_school_Yes\"],\"yaxis\":\"y\",\"type\":\"bar\"}],                        {\"template\":{\"data\":{\"histogram2dcontour\":[{\"type\":\"histogram2dcontour\",\"colorbar\":{\"outlinewidth\":0,\"ticks\":\"\"},\"colorscale\":[[0.0,\"#0d0887\"],[0.1111111111111111,\"#46039f\"],[0.2222222222222222,\"#7201a8\"],[0.3333333333333333,\"#9c179e\"],[0.4444444444444444,\"#bd3786\"],[0.5555555555555556,\"#d8576b\"],[0.6666666666666666,\"#ed7953\"],[0.7777777777777778,\"#fb9f3a\"],[0.8888888888888888,\"#fdca26\"],[1.0,\"#f0f921\"]]}],\"choropleth\":[{\"type\":\"choropleth\",\"colorbar\":{\"outlinewidth\":0,\"ticks\":\"\"}}],\"histogram2d\":[{\"type\":\"histogram2d\",\"colorbar\":{\"outlinewidth\":0,\"ticks\":\"\"},\"colorscale\":[[0.0,\"#0d0887\"],[0.1111111111111111,\"#46039f\"],[0.2222222222222222,\"#7201a8\"],[0.3333333333333333,\"#9c179e\"],[0.4444444444444444,\"#bd3786\"],[0.5555555555555556,\"#d8576b\"],[0.6666666666666666,\"#ed7953\"],[0.7777777777777778,\"#fb9f3a\"],[0.8888888888888888,\"#fdca26\"],[1.0,\"#f0f921\"]]}],\"heatmap\":[{\"type\":\"heatmap\",\"colorbar\":{\"outlinewidth\":0,\"ticks\":\"\"},\"colorscale\":[[0.0,\"#0d0887\"],[0.1111111111111111,\"#46039f\"],[0.2222222222222222,\"#7201a8\"],[0.3333333333333333,\"#9c179e\"],[0.4444444444444444,\"#bd3786\"],[0.5555555555555556,\"#d8576b\"],[0.6666666666666666,\"#ed7953\"],[0.7777777777777778,\"#fb9f3a\"],[0.8888888888888888,\"#fdca26\"],[1.0,\"#f0f921\"]]}],\"heatmapgl\":[{\"type\":\"heatmapgl\",\"colorbar\":{\"outlinewidth\":0,\"ticks\":\"\"},\"colorscale\":[[0.0,\"#0d0887\"],[0.1111111111111111,\"#46039f\"],[0.2222222222222222,\"#7201a8\"],[0.3333333333333333,\"#9c179e\"],[0.4444444444444444,\"#bd3786\"],[0.5555555555555556,\"#d8576b\"],[0.6666666666666666,\"#ed7953\"],[0.7777777777777778,\"#fb9f3a\"],[0.8888888888888888,\"#fdca26\"],[1.0,\"#f0f921\"]]}],\"contourcarpet\":[{\"type\":\"contourcarpet\",\"colorbar\":{\"outlinewidth\":0,\"ticks\":\"\"}}],\"contour\":[{\"type\":\"contour\",\"colorbar\":{\"outlinewidth\":0,\"ticks\":\"\"},\"colorscale\":[[0.0,\"#0d0887\"],[0.1111111111111111,\"#46039f\"],[0.2222222222222222,\"#7201a8\"],[0.3333333333333333,\"#9c179e\"],[0.4444444444444444,\"#bd3786\"],[0.5555555555555556,\"#d8576b\"],[0.6666666666666666,\"#ed7953\"],[0.7777777777777778,\"#fb9f3a\"],[0.8888888888888888,\"#fdca26\"],[1.0,\"#f0f921\"]]}],\"surface\":[{\"type\":\"surface\",\"colorbar\":{\"outlinewidth\":0,\"ticks\":\"\"},\"colorscale\":[[0.0,\"#0d0887\"],[0.1111111111111111,\"#46039f\"],[0.2222222222222222,\"#7201a8\"],[0.3333333333333333,\"#9c179e\"],[0.4444444444444444,\"#bd3786\"],[0.5555555555555556,\"#d8576b\"],[0.6666666666666666,\"#ed7953\"],[0.7777777777777778,\"#fb9f3a\"],[0.8888888888888888,\"#fdca26\"],[1.0,\"#f0f921\"]]}],\"mesh3d\":[{\"type\":\"mesh3d\",\"colorbar\":{\"outlinewidth\":0,\"ticks\":\"\"}}],\"scatter\":[{\"fillpattern\":{\"fillmode\":\"overlay\",\"size\":10,\"solidity\":0.2},\"type\":\"scatter\"}],\"parcoords\":[{\"type\":\"parcoords\",\"line\":{\"colorbar\":{\"outlinewidth\":0,\"ticks\":\"\"}}}],\"scatterpolargl\":[{\"type\":\"scatterpolargl\",\"marker\":{\"colorbar\":{\"outlinewidth\":0,\"ticks\":\"\"}}}],\"bar\":[{\"error_x\":{\"color\":\"#2a3f5f\"},\"error_y\":{\"color\":\"#2a3f5f\"},\"marker\":{\"line\":{\"color\":\"#E5ECF6\",\"width\":0.5},\"pattern\":{\"fillmode\":\"overlay\",\"size\":10,\"solidity\":0.2}},\"type\":\"bar\"}],\"scattergeo\":[{\"type\":\"scattergeo\",\"marker\":{\"colorbar\":{\"outlinewidth\":0,\"ticks\":\"\"}}}],\"scatterpolar\":[{\"type\":\"scatterpolar\",\"marker\":{\"colorbar\":{\"outlinewidth\":0,\"ticks\":\"\"}}}],\"histogram\":[{\"marker\":{\"pattern\":{\"fillmode\":\"overlay\",\"size\":10,\"solidity\":0.2}},\"type\":\"histogram\"}],\"scattergl\":[{\"type\":\"scattergl\",\"marker\":{\"colorbar\":{\"outlinewidth\":0,\"ticks\":\"\"}}}],\"scatter3d\":[{\"type\":\"scatter3d\",\"line\":{\"colorbar\":{\"outlinewidth\":0,\"ticks\":\"\"}},\"marker\":{\"colorbar\":{\"outlinewidth\":0,\"ticks\":\"\"}}}],\"scattermapbox\":[{\"type\":\"scattermapbox\",\"marker\":{\"colorbar\":{\"outlinewidth\":0,\"ticks\":\"\"}}}],\"scatterternary\":[{\"type\":\"scatterternary\",\"marker\":{\"colorbar\":{\"outlinewidth\":0,\"ticks\":\"\"}}}],\"scattercarpet\":[{\"type\":\"scattercarpet\",\"marker\":{\"colorbar\":{\"outlinewidth\":0,\"ticks\":\"\"}}}],\"carpet\":[{\"aaxis\":{\"endlinecolor\":\"#2a3f5f\",\"gridcolor\":\"white\",\"linecolor\":\"white\",\"minorgridcolor\":\"white\",\"startlinecolor\":\"#2a3f5f\"},\"baxis\":{\"endlinecolor\":\"#2a3f5f\",\"gridcolor\":\"white\",\"linecolor\":\"white\",\"minorgridcolor\":\"white\",\"startlinecolor\":\"#2a3f5f\"},\"type\":\"carpet\"}],\"table\":[{\"cells\":{\"fill\":{\"color\":\"#EBF0F8\"},\"line\":{\"color\":\"white\"}},\"header\":{\"fill\":{\"color\":\"#C8D4E3\"},\"line\":{\"color\":\"white\"}},\"type\":\"table\"}],\"barpolar\":[{\"marker\":{\"line\":{\"color\":\"#E5ECF6\",\"width\":0.5},\"pattern\":{\"fillmode\":\"overlay\",\"size\":10,\"solidity\":0.2}},\"type\":\"barpolar\"}],\"pie\":[{\"automargin\":true,\"type\":\"pie\"}]},\"layout\":{\"autotypenumbers\":\"strict\",\"colorway\":[\"#636efa\",\"#EF553B\",\"#00cc96\",\"#ab63fa\",\"#FFA15A\",\"#19d3f3\",\"#FF6692\",\"#B6E880\",\"#FF97FF\",\"#FECB52\"],\"font\":{\"color\":\"#2a3f5f\"},\"hovermode\":\"closest\",\"hoverlabel\":{\"align\":\"left\"},\"paper_bgcolor\":\"white\",\"plot_bgcolor\":\"#E5ECF6\",\"polar\":{\"bgcolor\":\"#E5ECF6\",\"angularaxis\":{\"gridcolor\":\"white\",\"linecolor\":\"white\",\"ticks\":\"\"},\"radialaxis\":{\"gridcolor\":\"white\",\"linecolor\":\"white\",\"ticks\":\"\"}},\"ternary\":{\"bgcolor\":\"#E5ECF6\",\"aaxis\":{\"gridcolor\":\"white\",\"linecolor\":\"white\",\"ticks\":\"\"},\"baxis\":{\"gridcolor\":\"white\",\"linecolor\":\"white\",\"ticks\":\"\"},\"caxis\":{\"gridcolor\":\"white\",\"linecolor\":\"white\",\"ticks\":\"\"}},\"coloraxis\":{\"colorbar\":{\"outlinewidth\":0,\"ticks\":\"\"}},\"colorscale\":{\"sequential\":[[0.0,\"#0d0887\"],[0.1111111111111111,\"#46039f\"],[0.2222222222222222,\"#7201a8\"],[0.3333333333333333,\"#9c179e\"],[0.4444444444444444,\"#bd3786\"],[0.5555555555555556,\"#d8576b\"],[0.6666666666666666,\"#ed7953\"],[0.7777777777777778,\"#fb9f3a\"],[0.8888888888888888,\"#fdca26\"],[1.0,\"#f0f921\"]],\"sequentialminus\":[[0.0,\"#0d0887\"],[0.1111111111111111,\"#46039f\"],[0.2222222222222222,\"#7201a8\"],[0.3333333333333333,\"#9c179e\"],[0.4444444444444444,\"#bd3786\"],[0.5555555555555556,\"#d8576b\"],[0.6666666666666666,\"#ed7953\"],[0.7777777777777778,\"#fb9f3a\"],[0.8888888888888888,\"#fdca26\"],[1.0,\"#f0f921\"]],\"diverging\":[[0,\"#8e0152\"],[0.1,\"#c51b7d\"],[0.2,\"#de77ae\"],[0.3,\"#f1b6da\"],[0.4,\"#fde0ef\"],[0.5,\"#f7f7f7\"],[0.6,\"#e6f5d0\"],[0.7,\"#b8e186\"],[0.8,\"#7fbc41\"],[0.9,\"#4d9221\"],[1,\"#276419\"]]},\"xaxis\":{\"gridcolor\":\"white\",\"linecolor\":\"white\",\"ticks\":\"\",\"title\":{\"standoff\":15},\"zerolinecolor\":\"white\",\"automargin\":true,\"zerolinewidth\":2},\"yaxis\":{\"gridcolor\":\"white\",\"linecolor\":\"white\",\"ticks\":\"\",\"title\":{\"standoff\":15},\"zerolinecolor\":\"white\",\"automargin\":true,\"zerolinewidth\":2},\"scene\":{\"xaxis\":{\"backgroundcolor\":\"#E5ECF6\",\"gridcolor\":\"white\",\"linecolor\":\"white\",\"showbackground\":true,\"ticks\":\"\",\"zerolinecolor\":\"white\",\"gridwidth\":2},\"yaxis\":{\"backgroundcolor\":\"#E5ECF6\",\"gridcolor\":\"white\",\"linecolor\":\"white\",\"showbackground\":true,\"ticks\":\"\",\"zerolinecolor\":\"white\",\"gridwidth\":2},\"zaxis\":{\"backgroundcolor\":\"#E5ECF6\",\"gridcolor\":\"white\",\"linecolor\":\"white\",\"showbackground\":true,\"ticks\":\"\",\"zerolinecolor\":\"white\",\"gridwidth\":2}},\"shapedefaults\":{\"line\":{\"color\":\"#2a3f5f\"}},\"annotationdefaults\":{\"arrowcolor\":\"#2a3f5f\",\"arrowhead\":0,\"arrowwidth\":1},\"geo\":{\"bgcolor\":\"white\",\"landcolor\":\"#E5ECF6\",\"subunitcolor\":\"white\",\"showland\":true,\"showlakes\":true,\"lakecolor\":\"white\"},\"title\":{\"x\":0.05},\"mapbox\":{\"style\":\"light\"}}},\"xaxis\":{\"anchor\":\"y\",\"domain\":[0.0,1.0],\"title\":{\"text\":\"Importância das Características\"}},\"yaxis\":{\"anchor\":\"x\",\"domain\":[0.0,1.0],\"title\":{\"text\":\"Características\"}},\"coloraxis\":{\"colorbar\":{\"title\":{\"text\":\"Importância\"},\"tickvals\":[-0.2901347524400265,0,0.580291223462911],\"ticktext\":[\"-0.29\",\"0\",\"0.58\"]},\"colorscale\":[[0.0,\"rgb(247,251,255)\"],[0.125,\"rgb(222,235,247)\"],[0.25,\"rgb(198,219,239)\"],[0.375,\"rgb(158,202,225)\"],[0.5,\"rgb(107,174,214)\"],[0.625,\"rgb(66,146,198)\"],[0.75,\"rgb(33,113,181)\"],[0.875,\"rgb(8,81,156)\"],[1.0,\"rgb(8,48,107)\"]]},\"legend\":{\"tracegroupgap\":0},\"title\":{\"text\":\"Importância das Características no Modelo de Regressão Logística\"},\"barmode\":\"relative\"},                        {\"responsive\": true}                    ).then(function(){\n",
              "                            \n",
              "var gd = document.getElementById('d1c6cf97-c4eb-469b-a387-cd9afa6b4148');\n",
              "var x = new MutationObserver(function (mutations, observer) {{\n",
              "        var display = window.getComputedStyle(gd).display;\n",
              "        if (!display || display === 'none') {{\n",
              "            console.log([gd, 'removed!']);\n",
              "            Plotly.purge(gd);\n",
              "            observer.disconnect();\n",
              "        }}\n",
              "}});\n",
              "\n",
              "// Listen for the removal of the full notebook cells\n",
              "var notebookContainer = gd.closest('#notebook-container');\n",
              "if (notebookContainer) {{\n",
              "    x.observe(notebookContainer, {childList: true});\n",
              "}}\n",
              "\n",
              "// Listen for the clearing of the current output cell\n",
              "var outputEl = gd.closest('.output');\n",
              "if (outputEl) {{\n",
              "    x.observe(outputEl, {childList: true});\n",
              "}}\n",
              "\n",
              "                        })                };                            </script>        </div>\n",
              "</body>\n",
              "</html>"
            ]
          },
          "metadata": {}
        }
      ],
      "source": [
        "# Obtendo os coeficientes do modelo\n",
        "coefficients = melhor_model_LR.coef_[0]\n",
        "feature_names = X.columns\n",
        "\n",
        "# Ordenando os índices das características pelos coeficientes em ordem absoluta\n",
        "indices = np.argsort(np.abs(coefficients))\n",
        "\n",
        "# Obtendo todas as características e suas importâncias\n",
        "sorted_features = feature_names[indices]\n",
        "sorted_importances = coefficients[indices]\n",
        "\n",
        "# Criando um DataFrame para facilitar a manipulação e exibição\n",
        "feature_importance_df = pd.DataFrame({\n",
        "    'Feature': sorted_features,\n",
        "    'Importance': sorted_importances\n",
        "})\n",
        "\n",
        "# Plotando com Plotly\n",
        "fig = px.bar(\n",
        "    feature_importance_df,\n",
        "    x='Importance',\n",
        "    y='Feature',\n",
        "    orientation='h',\n",
        "    title='Importância das Características no Modelo de Regressão Logística',\n",
        "    labels={'Importance': 'Importância das Características', 'Feature': 'Características'},\n",
        "    color='Importance',  # Adiciona cor conforme a importância\n",
        "    color_continuous_scale='Blues'\n",
        ")\n",
        "\n",
        "# Adicionando a barra de cor (color scale) ao lado\n",
        "fig.update_layout(\n",
        "    coloraxis_colorbar=dict(\n",
        "        title=\"Importância\",\n",
        "        tickvals=[min(sorted_importances), 0, max(sorted_importances)],\n",
        "        ticktext=[f'{min(sorted_importances):.2f}', '0', f'{max(sorted_importances):.2f}']\n",
        "    )\n",
        ")\n",
        "\n",
        "fig.show()\n"
      ]
    },
    {
      "cell_type": "code",
      "execution_count": null,
      "metadata": {
        "id": "_Hk3qsNocHLn"
      },
      "outputs": [],
      "source": [
        "# 1. Calcular as médias absolutas dos valores SHAP para cada feature\n",
        "shap_importances = np.abs(valores_shap.values).mean(axis=0)\n",
        "\n",
        "# 2. Criar um DataFrame para organizar as features e suas importâncias\n",
        "feature_importance = pd.DataFrame({\n",
        "    'Feature': X.columns,\n",
        "    'Importance': shap_importances\n",
        "})\n",
        "\n",
        "# 3. Ordenar as features por importância e selecionar as top 10\n",
        "top_features = feature_importance.sort_values(by='Importance', ascending=False).head(24)"
      ]
    },
    {
      "cell_type": "code",
      "execution_count": null,
      "metadata": {
        "id": "t4XmwtGpcOP2",
        "colab": {
          "base_uri": "https://localhost:8080/",
          "height": 802
        },
        "outputId": "2b2ed3b4-3427-4627-f154-f0c220dbad42"
      },
      "outputs": [
        {
          "output_type": "execute_result",
          "data": {
            "text/plain": [
              "                                         Feature  Importance\n",
              "1                         bullied_off_school_Yes    0.496766\n",
              "2                               cyberbullied_Yes    0.297651\n",
              "4                    physically_attacked_0 times    0.207438\n",
              "21                             felt_lonely_Never    0.169766\n",
              "0                                            age    0.169016\n",
              "42                         often_felt_lonely_Yes    0.132077\n",
              "33    students_kind_and_helpful_Most of the time    0.101462\n",
              "32              students_kind_and_helpful_Always    0.098420\n",
              "22                            felt_lonely_Rarely    0.088807\n",
              "37            parents_understand_problems_Always    0.075709\n",
              "35              students_kind_and_helpful_Rarely    0.059678\n",
              "41         parents_understand_problems_Sometimes    0.055924\n",
              "38  parents_understand_problems_Most of the time    0.048065\n",
              "28            missed_school_no_permission_0 days    0.047870\n",
              "5                     physically_attacked_1 time    0.046270\n",
              "34               students_kind_and_helpful_Never    0.044992\n",
              "27                       close_friends_3 or more    0.037887\n",
              "40            parents_understand_problems_Rarely    0.036860\n",
              "23                         felt_lonely_Sometimes    0.027433\n",
              "39             parents_understand_problems_Never    0.023297\n",
              "26                               close_friends_2    0.020992\n",
              "29       missed_school_no_permission_1 or 2 days    0.020757\n",
              "45                                overweight_Yes    0.019343\n",
              "3                                     sex_Female    0.016727"
            ],
            "text/html": [
              "\n",
              "  <div id=\"df-273eb274-f892-4d0f-94e5-7c1ff1ceb59d\" class=\"colab-df-container\">\n",
              "    <div>\n",
              "<style scoped>\n",
              "    .dataframe tbody tr th:only-of-type {\n",
              "        vertical-align: middle;\n",
              "    }\n",
              "\n",
              "    .dataframe tbody tr th {\n",
              "        vertical-align: top;\n",
              "    }\n",
              "\n",
              "    .dataframe thead th {\n",
              "        text-align: right;\n",
              "    }\n",
              "</style>\n",
              "<table border=\"1\" class=\"dataframe\">\n",
              "  <thead>\n",
              "    <tr style=\"text-align: right;\">\n",
              "      <th></th>\n",
              "      <th>Feature</th>\n",
              "      <th>Importance</th>\n",
              "    </tr>\n",
              "  </thead>\n",
              "  <tbody>\n",
              "    <tr>\n",
              "      <th>1</th>\n",
              "      <td>bullied_off_school_Yes</td>\n",
              "      <td>0.496766</td>\n",
              "    </tr>\n",
              "    <tr>\n",
              "      <th>2</th>\n",
              "      <td>cyberbullied_Yes</td>\n",
              "      <td>0.297651</td>\n",
              "    </tr>\n",
              "    <tr>\n",
              "      <th>4</th>\n",
              "      <td>physically_attacked_0 times</td>\n",
              "      <td>0.207438</td>\n",
              "    </tr>\n",
              "    <tr>\n",
              "      <th>21</th>\n",
              "      <td>felt_lonely_Never</td>\n",
              "      <td>0.169766</td>\n",
              "    </tr>\n",
              "    <tr>\n",
              "      <th>0</th>\n",
              "      <td>age</td>\n",
              "      <td>0.169016</td>\n",
              "    </tr>\n",
              "    <tr>\n",
              "      <th>42</th>\n",
              "      <td>often_felt_lonely_Yes</td>\n",
              "      <td>0.132077</td>\n",
              "    </tr>\n",
              "    <tr>\n",
              "      <th>33</th>\n",
              "      <td>students_kind_and_helpful_Most of the time</td>\n",
              "      <td>0.101462</td>\n",
              "    </tr>\n",
              "    <tr>\n",
              "      <th>32</th>\n",
              "      <td>students_kind_and_helpful_Always</td>\n",
              "      <td>0.098420</td>\n",
              "    </tr>\n",
              "    <tr>\n",
              "      <th>22</th>\n",
              "      <td>felt_lonely_Rarely</td>\n",
              "      <td>0.088807</td>\n",
              "    </tr>\n",
              "    <tr>\n",
              "      <th>37</th>\n",
              "      <td>parents_understand_problems_Always</td>\n",
              "      <td>0.075709</td>\n",
              "    </tr>\n",
              "    <tr>\n",
              "      <th>35</th>\n",
              "      <td>students_kind_and_helpful_Rarely</td>\n",
              "      <td>0.059678</td>\n",
              "    </tr>\n",
              "    <tr>\n",
              "      <th>41</th>\n",
              "      <td>parents_understand_problems_Sometimes</td>\n",
              "      <td>0.055924</td>\n",
              "    </tr>\n",
              "    <tr>\n",
              "      <th>38</th>\n",
              "      <td>parents_understand_problems_Most of the time</td>\n",
              "      <td>0.048065</td>\n",
              "    </tr>\n",
              "    <tr>\n",
              "      <th>28</th>\n",
              "      <td>missed_school_no_permission_0 days</td>\n",
              "      <td>0.047870</td>\n",
              "    </tr>\n",
              "    <tr>\n",
              "      <th>5</th>\n",
              "      <td>physically_attacked_1 time</td>\n",
              "      <td>0.046270</td>\n",
              "    </tr>\n",
              "    <tr>\n",
              "      <th>34</th>\n",
              "      <td>students_kind_and_helpful_Never</td>\n",
              "      <td>0.044992</td>\n",
              "    </tr>\n",
              "    <tr>\n",
              "      <th>27</th>\n",
              "      <td>close_friends_3 or more</td>\n",
              "      <td>0.037887</td>\n",
              "    </tr>\n",
              "    <tr>\n",
              "      <th>40</th>\n",
              "      <td>parents_understand_problems_Rarely</td>\n",
              "      <td>0.036860</td>\n",
              "    </tr>\n",
              "    <tr>\n",
              "      <th>23</th>\n",
              "      <td>felt_lonely_Sometimes</td>\n",
              "      <td>0.027433</td>\n",
              "    </tr>\n",
              "    <tr>\n",
              "      <th>39</th>\n",
              "      <td>parents_understand_problems_Never</td>\n",
              "      <td>0.023297</td>\n",
              "    </tr>\n",
              "    <tr>\n",
              "      <th>26</th>\n",
              "      <td>close_friends_2</td>\n",
              "      <td>0.020992</td>\n",
              "    </tr>\n",
              "    <tr>\n",
              "      <th>29</th>\n",
              "      <td>missed_school_no_permission_1 or 2 days</td>\n",
              "      <td>0.020757</td>\n",
              "    </tr>\n",
              "    <tr>\n",
              "      <th>45</th>\n",
              "      <td>overweight_Yes</td>\n",
              "      <td>0.019343</td>\n",
              "    </tr>\n",
              "    <tr>\n",
              "      <th>3</th>\n",
              "      <td>sex_Female</td>\n",
              "      <td>0.016727</td>\n",
              "    </tr>\n",
              "  </tbody>\n",
              "</table>\n",
              "</div>\n",
              "    <div class=\"colab-df-buttons\">\n",
              "\n",
              "  <div class=\"colab-df-container\">\n",
              "    <button class=\"colab-df-convert\" onclick=\"convertToInteractive('df-273eb274-f892-4d0f-94e5-7c1ff1ceb59d')\"\n",
              "            title=\"Convert this dataframe to an interactive table.\"\n",
              "            style=\"display:none;\">\n",
              "\n",
              "  <svg xmlns=\"http://www.w3.org/2000/svg\" height=\"24px\" viewBox=\"0 -960 960 960\">\n",
              "    <path d=\"M120-120v-720h720v720H120Zm60-500h600v-160H180v160Zm220 220h160v-160H400v160Zm0 220h160v-160H400v160ZM180-400h160v-160H180v160Zm440 0h160v-160H620v160ZM180-180h160v-160H180v160Zm440 0h160v-160H620v160Z\"/>\n",
              "  </svg>\n",
              "    </button>\n",
              "\n",
              "  <style>\n",
              "    .colab-df-container {\n",
              "      display:flex;\n",
              "      gap: 12px;\n",
              "    }\n",
              "\n",
              "    .colab-df-convert {\n",
              "      background-color: #E8F0FE;\n",
              "      border: none;\n",
              "      border-radius: 50%;\n",
              "      cursor: pointer;\n",
              "      display: none;\n",
              "      fill: #1967D2;\n",
              "      height: 32px;\n",
              "      padding: 0 0 0 0;\n",
              "      width: 32px;\n",
              "    }\n",
              "\n",
              "    .colab-df-convert:hover {\n",
              "      background-color: #E2EBFA;\n",
              "      box-shadow: 0px 1px 2px rgba(60, 64, 67, 0.3), 0px 1px 3px 1px rgba(60, 64, 67, 0.15);\n",
              "      fill: #174EA6;\n",
              "    }\n",
              "\n",
              "    .colab-df-buttons div {\n",
              "      margin-bottom: 4px;\n",
              "    }\n",
              "\n",
              "    [theme=dark] .colab-df-convert {\n",
              "      background-color: #3B4455;\n",
              "      fill: #D2E3FC;\n",
              "    }\n",
              "\n",
              "    [theme=dark] .colab-df-convert:hover {\n",
              "      background-color: #434B5C;\n",
              "      box-shadow: 0px 1px 3px 1px rgba(0, 0, 0, 0.15);\n",
              "      filter: drop-shadow(0px 1px 2px rgba(0, 0, 0, 0.3));\n",
              "      fill: #FFFFFF;\n",
              "    }\n",
              "  </style>\n",
              "\n",
              "    <script>\n",
              "      const buttonEl =\n",
              "        document.querySelector('#df-273eb274-f892-4d0f-94e5-7c1ff1ceb59d button.colab-df-convert');\n",
              "      buttonEl.style.display =\n",
              "        google.colab.kernel.accessAllowed ? 'block' : 'none';\n",
              "\n",
              "      async function convertToInteractive(key) {\n",
              "        const element = document.querySelector('#df-273eb274-f892-4d0f-94e5-7c1ff1ceb59d');\n",
              "        const dataTable =\n",
              "          await google.colab.kernel.invokeFunction('convertToInteractive',\n",
              "                                                    [key], {});\n",
              "        if (!dataTable) return;\n",
              "\n",
              "        const docLinkHtml = 'Like what you see? Visit the ' +\n",
              "          '<a target=\"_blank\" href=https://colab.research.google.com/notebooks/data_table.ipynb>data table notebook</a>'\n",
              "          + ' to learn more about interactive tables.';\n",
              "        element.innerHTML = '';\n",
              "        dataTable['output_type'] = 'display_data';\n",
              "        await google.colab.output.renderOutput(dataTable, element);\n",
              "        const docLink = document.createElement('div');\n",
              "        docLink.innerHTML = docLinkHtml;\n",
              "        element.appendChild(docLink);\n",
              "      }\n",
              "    </script>\n",
              "  </div>\n",
              "\n",
              "\n",
              "<div id=\"df-d7675a7e-d6ab-40d8-afa0-41d7612bca9f\">\n",
              "  <button class=\"colab-df-quickchart\" onclick=\"quickchart('df-d7675a7e-d6ab-40d8-afa0-41d7612bca9f')\"\n",
              "            title=\"Suggest charts\"\n",
              "            style=\"display:none;\">\n",
              "\n",
              "<svg xmlns=\"http://www.w3.org/2000/svg\" height=\"24px\"viewBox=\"0 0 24 24\"\n",
              "     width=\"24px\">\n",
              "    <g>\n",
              "        <path d=\"M19 3H5c-1.1 0-2 .9-2 2v14c0 1.1.9 2 2 2h14c1.1 0 2-.9 2-2V5c0-1.1-.9-2-2-2zM9 17H7v-7h2v7zm4 0h-2V7h2v10zm4 0h-2v-4h2v4z\"/>\n",
              "    </g>\n",
              "</svg>\n",
              "  </button>\n",
              "\n",
              "<style>\n",
              "  .colab-df-quickchart {\n",
              "      --bg-color: #E8F0FE;\n",
              "      --fill-color: #1967D2;\n",
              "      --hover-bg-color: #E2EBFA;\n",
              "      --hover-fill-color: #174EA6;\n",
              "      --disabled-fill-color: #AAA;\n",
              "      --disabled-bg-color: #DDD;\n",
              "  }\n",
              "\n",
              "  [theme=dark] .colab-df-quickchart {\n",
              "      --bg-color: #3B4455;\n",
              "      --fill-color: #D2E3FC;\n",
              "      --hover-bg-color: #434B5C;\n",
              "      --hover-fill-color: #FFFFFF;\n",
              "      --disabled-bg-color: #3B4455;\n",
              "      --disabled-fill-color: #666;\n",
              "  }\n",
              "\n",
              "  .colab-df-quickchart {\n",
              "    background-color: var(--bg-color);\n",
              "    border: none;\n",
              "    border-radius: 50%;\n",
              "    cursor: pointer;\n",
              "    display: none;\n",
              "    fill: var(--fill-color);\n",
              "    height: 32px;\n",
              "    padding: 0;\n",
              "    width: 32px;\n",
              "  }\n",
              "\n",
              "  .colab-df-quickchart:hover {\n",
              "    background-color: var(--hover-bg-color);\n",
              "    box-shadow: 0 1px 2px rgba(60, 64, 67, 0.3), 0 1px 3px 1px rgba(60, 64, 67, 0.15);\n",
              "    fill: var(--button-hover-fill-color);\n",
              "  }\n",
              "\n",
              "  .colab-df-quickchart-complete:disabled,\n",
              "  .colab-df-quickchart-complete:disabled:hover {\n",
              "    background-color: var(--disabled-bg-color);\n",
              "    fill: var(--disabled-fill-color);\n",
              "    box-shadow: none;\n",
              "  }\n",
              "\n",
              "  .colab-df-spinner {\n",
              "    border: 2px solid var(--fill-color);\n",
              "    border-color: transparent;\n",
              "    border-bottom-color: var(--fill-color);\n",
              "    animation:\n",
              "      spin 1s steps(1) infinite;\n",
              "  }\n",
              "\n",
              "  @keyframes spin {\n",
              "    0% {\n",
              "      border-color: transparent;\n",
              "      border-bottom-color: var(--fill-color);\n",
              "      border-left-color: var(--fill-color);\n",
              "    }\n",
              "    20% {\n",
              "      border-color: transparent;\n",
              "      border-left-color: var(--fill-color);\n",
              "      border-top-color: var(--fill-color);\n",
              "    }\n",
              "    30% {\n",
              "      border-color: transparent;\n",
              "      border-left-color: var(--fill-color);\n",
              "      border-top-color: var(--fill-color);\n",
              "      border-right-color: var(--fill-color);\n",
              "    }\n",
              "    40% {\n",
              "      border-color: transparent;\n",
              "      border-right-color: var(--fill-color);\n",
              "      border-top-color: var(--fill-color);\n",
              "    }\n",
              "    60% {\n",
              "      border-color: transparent;\n",
              "      border-right-color: var(--fill-color);\n",
              "    }\n",
              "    80% {\n",
              "      border-color: transparent;\n",
              "      border-right-color: var(--fill-color);\n",
              "      border-bottom-color: var(--fill-color);\n",
              "    }\n",
              "    90% {\n",
              "      border-color: transparent;\n",
              "      border-bottom-color: var(--fill-color);\n",
              "    }\n",
              "  }\n",
              "</style>\n",
              "\n",
              "  <script>\n",
              "    async function quickchart(key) {\n",
              "      const quickchartButtonEl =\n",
              "        document.querySelector('#' + key + ' button');\n",
              "      quickchartButtonEl.disabled = true;  // To prevent multiple clicks.\n",
              "      quickchartButtonEl.classList.add('colab-df-spinner');\n",
              "      try {\n",
              "        const charts = await google.colab.kernel.invokeFunction(\n",
              "            'suggestCharts', [key], {});\n",
              "      } catch (error) {\n",
              "        console.error('Error during call to suggestCharts:', error);\n",
              "      }\n",
              "      quickchartButtonEl.classList.remove('colab-df-spinner');\n",
              "      quickchartButtonEl.classList.add('colab-df-quickchart-complete');\n",
              "    }\n",
              "    (() => {\n",
              "      let quickchartButtonEl =\n",
              "        document.querySelector('#df-d7675a7e-d6ab-40d8-afa0-41d7612bca9f button');\n",
              "      quickchartButtonEl.style.display =\n",
              "        google.colab.kernel.accessAllowed ? 'block' : 'none';\n",
              "    })();\n",
              "  </script>\n",
              "</div>\n",
              "\n",
              "  <div id=\"id_01efecfc-1039-466c-bce2-ec87512a8e6f\">\n",
              "    <style>\n",
              "      .colab-df-generate {\n",
              "        background-color: #E8F0FE;\n",
              "        border: none;\n",
              "        border-radius: 50%;\n",
              "        cursor: pointer;\n",
              "        display: none;\n",
              "        fill: #1967D2;\n",
              "        height: 32px;\n",
              "        padding: 0 0 0 0;\n",
              "        width: 32px;\n",
              "      }\n",
              "\n",
              "      .colab-df-generate:hover {\n",
              "        background-color: #E2EBFA;\n",
              "        box-shadow: 0px 1px 2px rgba(60, 64, 67, 0.3), 0px 1px 3px 1px rgba(60, 64, 67, 0.15);\n",
              "        fill: #174EA6;\n",
              "      }\n",
              "\n",
              "      [theme=dark] .colab-df-generate {\n",
              "        background-color: #3B4455;\n",
              "        fill: #D2E3FC;\n",
              "      }\n",
              "\n",
              "      [theme=dark] .colab-df-generate:hover {\n",
              "        background-color: #434B5C;\n",
              "        box-shadow: 0px 1px 3px 1px rgba(0, 0, 0, 0.15);\n",
              "        filter: drop-shadow(0px 1px 2px rgba(0, 0, 0, 0.3));\n",
              "        fill: #FFFFFF;\n",
              "      }\n",
              "    </style>\n",
              "    <button class=\"colab-df-generate\" onclick=\"generateWithVariable('top_features')\"\n",
              "            title=\"Generate code using this dataframe.\"\n",
              "            style=\"display:none;\">\n",
              "\n",
              "  <svg xmlns=\"http://www.w3.org/2000/svg\" height=\"24px\"viewBox=\"0 0 24 24\"\n",
              "       width=\"24px\">\n",
              "    <path d=\"M7,19H8.4L18.45,9,17,7.55,7,17.6ZM5,21V16.75L18.45,3.32a2,2,0,0,1,2.83,0l1.4,1.43a1.91,1.91,0,0,1,.58,1.4,1.91,1.91,0,0,1-.58,1.4L9.25,21ZM18.45,9,17,7.55Zm-12,3A5.31,5.31,0,0,0,4.9,8.1,5.31,5.31,0,0,0,1,6.5,5.31,5.31,0,0,0,4.9,4.9,5.31,5.31,0,0,0,6.5,1,5.31,5.31,0,0,0,8.1,4.9,5.31,5.31,0,0,0,12,6.5,5.46,5.46,0,0,0,6.5,12Z\"/>\n",
              "  </svg>\n",
              "    </button>\n",
              "    <script>\n",
              "      (() => {\n",
              "      const buttonEl =\n",
              "        document.querySelector('#id_01efecfc-1039-466c-bce2-ec87512a8e6f button.colab-df-generate');\n",
              "      buttonEl.style.display =\n",
              "        google.colab.kernel.accessAllowed ? 'block' : 'none';\n",
              "\n",
              "      buttonEl.onclick = () => {\n",
              "        google.colab.notebook.generateWithVariable('top_features');\n",
              "      }\n",
              "      })();\n",
              "    </script>\n",
              "  </div>\n",
              "\n",
              "    </div>\n",
              "  </div>\n"
            ],
            "application/vnd.google.colaboratory.intrinsic+json": {
              "type": "dataframe",
              "variable_name": "top_features",
              "summary": "{\n  \"name\": \"top_features\",\n  \"rows\": 24,\n  \"fields\": [\n    {\n      \"column\": \"Feature\",\n      \"properties\": {\n        \"dtype\": \"string\",\n        \"num_unique_values\": 24,\n        \"samples\": [\n          \"felt_lonely_Rarely\",\n          \"close_friends_3 or more\",\n          \"bullied_off_school_Yes\"\n        ],\n        \"semantic_type\": \"\",\n        \"description\": \"\"\n      }\n    },\n    {\n      \"column\": \"Importance\",\n      \"properties\": {\n        \"dtype\": \"number\",\n        \"std\": 0.1101636580690354,\n        \"min\": 0.016727417152705287,\n        \"max\": 0.4967658909555664,\n        \"num_unique_values\": 24,\n        \"samples\": [\n          0.08880690991763217,\n          0.03788657964816265,\n          0.4967658909555664\n        ],\n        \"semantic_type\": \"\",\n        \"description\": \"\"\n      }\n    }\n  ]\n}"
            }
          },
          "metadata": {},
          "execution_count": 29
        }
      ],
      "source": [
        "top_features"
      ]
    },
    {
      "cell_type": "markdown",
      "metadata": {
        "id": "c9tu6PHLPNmu"
      },
      "source": [
        "## 5.5. Avalie a performance do modelo usando métricas como Acurácia, Precisão, Recall e plote a matriz de confusão."
      ]
    },
    {
      "cell_type": "markdown",
      "metadata": {
        "id": "WX-oVNcFntBk"
      },
      "source": [
        "### 5.5.1. Avaliação do modelo sem undersampling e oversampling"
      ]
    },
    {
      "cell_type": "code",
      "execution_count": null,
      "metadata": {
        "id": "n4XbSOzZiuMH",
        "colab": {
          "base_uri": "https://localhost:8080/"
        },
        "outputId": "0ff88a1d-4c1b-466e-db3d-2fc387b3b087"
      },
      "outputs": [
        {
          "output_type": "stream",
          "name": "stdout",
          "text": [
            "              precision    recall  f1-score   support\n",
            "\n",
            "           0     0.8973    0.7123    0.7942      6576\n",
            "           1     0.3978    0.6999    0.5073      1786\n",
            "\n",
            "    accuracy                         0.7096      8362\n",
            "   macro avg     0.6476    0.7061    0.6507      8362\n",
            "weighted avg     0.7906    0.7096    0.7329      8362\n",
            "\n"
          ]
        }
      ],
      "source": [
        "# Avaliar o modelo\n",
        "print(classification_report(y_teste, y_predito_melhor, digits=4))"
      ]
    },
    {
      "cell_type": "markdown",
      "metadata": {
        "id": "0QvniLA82akJ"
      },
      "source": [
        "Resultados:\n",
        "  - Mesmo com as métricas muito semelhantes, o modelo sem o under e o over foi o que obteve as melhores métricas."
      ]
    },
    {
      "cell_type": "markdown",
      "metadata": {
        "id": "OMDV1l20MP9o"
      },
      "source": [
        "### 5.5.2. Matrix de Confusão"
      ]
    },
    {
      "cell_type": "code",
      "execution_count": null,
      "metadata": {
        "id": "yW5WEUzLnj4m",
        "colab": {
          "base_uri": "https://localhost:8080/",
          "height": 542
        },
        "outputId": "16edb937-7c53-498b-c2ee-2194eb17df08"
      },
      "outputs": [
        {
          "output_type": "display_data",
          "data": {
            "text/html": [
              "<html>\n",
              "<head><meta charset=\"utf-8\" /></head>\n",
              "<body>\n",
              "    <div>            <script src=\"https://cdnjs.cloudflare.com/ajax/libs/mathjax/2.7.5/MathJax.js?config=TeX-AMS-MML_SVG\"></script><script type=\"text/javascript\">if (window.MathJax && window.MathJax.Hub && window.MathJax.Hub.Config) {window.MathJax.Hub.Config({SVG: {font: \"STIX-Web\"}});}</script>                <script type=\"text/javascript\">window.PlotlyConfig = {MathJaxConfig: 'local'};</script>\n",
              "        <script charset=\"utf-8\" src=\"https://cdn.plot.ly/plotly-2.35.2.min.js\"></script>                <div id=\"546f4de0-13ed-4343-ace6-2694e7cc54fc\" class=\"plotly-graph-div\" style=\"height:525px; width:100%;\"></div>            <script type=\"text/javascript\">                                    window.PLOTLYENV=window.PLOTLYENV || {};                                    if (document.getElementById(\"546f4de0-13ed-4343-ace6-2694e7cc54fc\")) {                    Plotly.newPlot(                        \"546f4de0-13ed-4343-ace6-2694e7cc54fc\",                        [{\"colorscale\":[[0.0,\"rgb(247,251,255)\"],[0.125,\"rgb(222,235,247)\"],[0.25,\"rgb(198,219,239)\"],[0.375,\"rgb(158,202,225)\"],[0.5,\"rgb(107,174,214)\"],[0.625,\"rgb(66,146,198)\"],[0.75,\"rgb(33,113,181)\"],[0.875,\"rgb(8,81,156)\"],[1.0,\"rgb(8,48,107)\"]],\"reversescale\":false,\"showscale\":true,\"x\":[\"Predito: 0\",\"Predito: 1\"],\"y\":[\"Real: 0\",\"Real: 1\"],\"z\":[[4684,1892],[536,1250]],\"type\":\"heatmap\"}],                        {\"annotations\":[{\"font\":{\"color\":\"#FFFFFF\"},\"showarrow\":false,\"text\":\"4684\",\"x\":\"Predito: 0\",\"xref\":\"x\",\"y\":\"Real: 0\",\"yref\":\"y\"},{\"font\":{\"color\":\"#000000\"},\"showarrow\":false,\"text\":\"1892\",\"x\":\"Predito: 1\",\"xref\":\"x\",\"y\":\"Real: 0\",\"yref\":\"y\"},{\"font\":{\"color\":\"#000000\"},\"showarrow\":false,\"text\":\"536\",\"x\":\"Predito: 0\",\"xref\":\"x\",\"y\":\"Real: 1\",\"yref\":\"y\"},{\"font\":{\"color\":\"#000000\"},\"showarrow\":false,\"text\":\"1250\",\"x\":\"Predito: 1\",\"xref\":\"x\",\"y\":\"Real: 1\",\"yref\":\"y\"}],\"xaxis\":{\"dtick\":1,\"gridcolor\":\"rgb(0, 0, 0)\",\"side\":\"top\",\"ticks\":\"\",\"title\":{\"text\":\"Valores Preditos\"}},\"yaxis\":{\"dtick\":1,\"ticks\":\"\",\"ticksuffix\":\"  \",\"title\":{\"text\":\"Valores Reais\"}},\"template\":{\"data\":{\"histogram2dcontour\":[{\"type\":\"histogram2dcontour\",\"colorbar\":{\"outlinewidth\":0,\"ticks\":\"\"},\"colorscale\":[[0.0,\"#0d0887\"],[0.1111111111111111,\"#46039f\"],[0.2222222222222222,\"#7201a8\"],[0.3333333333333333,\"#9c179e\"],[0.4444444444444444,\"#bd3786\"],[0.5555555555555556,\"#d8576b\"],[0.6666666666666666,\"#ed7953\"],[0.7777777777777778,\"#fb9f3a\"],[0.8888888888888888,\"#fdca26\"],[1.0,\"#f0f921\"]]}],\"choropleth\":[{\"type\":\"choropleth\",\"colorbar\":{\"outlinewidth\":0,\"ticks\":\"\"}}],\"histogram2d\":[{\"type\":\"histogram2d\",\"colorbar\":{\"outlinewidth\":0,\"ticks\":\"\"},\"colorscale\":[[0.0,\"#0d0887\"],[0.1111111111111111,\"#46039f\"],[0.2222222222222222,\"#7201a8\"],[0.3333333333333333,\"#9c179e\"],[0.4444444444444444,\"#bd3786\"],[0.5555555555555556,\"#d8576b\"],[0.6666666666666666,\"#ed7953\"],[0.7777777777777778,\"#fb9f3a\"],[0.8888888888888888,\"#fdca26\"],[1.0,\"#f0f921\"]]}],\"heatmap\":[{\"type\":\"heatmap\",\"colorbar\":{\"outlinewidth\":0,\"ticks\":\"\"},\"colorscale\":[[0.0,\"#0d0887\"],[0.1111111111111111,\"#46039f\"],[0.2222222222222222,\"#7201a8\"],[0.3333333333333333,\"#9c179e\"],[0.4444444444444444,\"#bd3786\"],[0.5555555555555556,\"#d8576b\"],[0.6666666666666666,\"#ed7953\"],[0.7777777777777778,\"#fb9f3a\"],[0.8888888888888888,\"#fdca26\"],[1.0,\"#f0f921\"]]}],\"heatmapgl\":[{\"type\":\"heatmapgl\",\"colorbar\":{\"outlinewidth\":0,\"ticks\":\"\"},\"colorscale\":[[0.0,\"#0d0887\"],[0.1111111111111111,\"#46039f\"],[0.2222222222222222,\"#7201a8\"],[0.3333333333333333,\"#9c179e\"],[0.4444444444444444,\"#bd3786\"],[0.5555555555555556,\"#d8576b\"],[0.6666666666666666,\"#ed7953\"],[0.7777777777777778,\"#fb9f3a\"],[0.8888888888888888,\"#fdca26\"],[1.0,\"#f0f921\"]]}],\"contourcarpet\":[{\"type\":\"contourcarpet\",\"colorbar\":{\"outlinewidth\":0,\"ticks\":\"\"}}],\"contour\":[{\"type\":\"contour\",\"colorbar\":{\"outlinewidth\":0,\"ticks\":\"\"},\"colorscale\":[[0.0,\"#0d0887\"],[0.1111111111111111,\"#46039f\"],[0.2222222222222222,\"#7201a8\"],[0.3333333333333333,\"#9c179e\"],[0.4444444444444444,\"#bd3786\"],[0.5555555555555556,\"#d8576b\"],[0.6666666666666666,\"#ed7953\"],[0.7777777777777778,\"#fb9f3a\"],[0.8888888888888888,\"#fdca26\"],[1.0,\"#f0f921\"]]}],\"surface\":[{\"type\":\"surface\",\"colorbar\":{\"outlinewidth\":0,\"ticks\":\"\"},\"colorscale\":[[0.0,\"#0d0887\"],[0.1111111111111111,\"#46039f\"],[0.2222222222222222,\"#7201a8\"],[0.3333333333333333,\"#9c179e\"],[0.4444444444444444,\"#bd3786\"],[0.5555555555555556,\"#d8576b\"],[0.6666666666666666,\"#ed7953\"],[0.7777777777777778,\"#fb9f3a\"],[0.8888888888888888,\"#fdca26\"],[1.0,\"#f0f921\"]]}],\"mesh3d\":[{\"type\":\"mesh3d\",\"colorbar\":{\"outlinewidth\":0,\"ticks\":\"\"}}],\"scatter\":[{\"fillpattern\":{\"fillmode\":\"overlay\",\"size\":10,\"solidity\":0.2},\"type\":\"scatter\"}],\"parcoords\":[{\"type\":\"parcoords\",\"line\":{\"colorbar\":{\"outlinewidth\":0,\"ticks\":\"\"}}}],\"scatterpolargl\":[{\"type\":\"scatterpolargl\",\"marker\":{\"colorbar\":{\"outlinewidth\":0,\"ticks\":\"\"}}}],\"bar\":[{\"error_x\":{\"color\":\"#2a3f5f\"},\"error_y\":{\"color\":\"#2a3f5f\"},\"marker\":{\"line\":{\"color\":\"#E5ECF6\",\"width\":0.5},\"pattern\":{\"fillmode\":\"overlay\",\"size\":10,\"solidity\":0.2}},\"type\":\"bar\"}],\"scattergeo\":[{\"type\":\"scattergeo\",\"marker\":{\"colorbar\":{\"outlinewidth\":0,\"ticks\":\"\"}}}],\"scatterpolar\":[{\"type\":\"scatterpolar\",\"marker\":{\"colorbar\":{\"outlinewidth\":0,\"ticks\":\"\"}}}],\"histogram\":[{\"marker\":{\"pattern\":{\"fillmode\":\"overlay\",\"size\":10,\"solidity\":0.2}},\"type\":\"histogram\"}],\"scattergl\":[{\"type\":\"scattergl\",\"marker\":{\"colorbar\":{\"outlinewidth\":0,\"ticks\":\"\"}}}],\"scatter3d\":[{\"type\":\"scatter3d\",\"line\":{\"colorbar\":{\"outlinewidth\":0,\"ticks\":\"\"}},\"marker\":{\"colorbar\":{\"outlinewidth\":0,\"ticks\":\"\"}}}],\"scattermapbox\":[{\"type\":\"scattermapbox\",\"marker\":{\"colorbar\":{\"outlinewidth\":0,\"ticks\":\"\"}}}],\"scatterternary\":[{\"type\":\"scatterternary\",\"marker\":{\"colorbar\":{\"outlinewidth\":0,\"ticks\":\"\"}}}],\"scattercarpet\":[{\"type\":\"scattercarpet\",\"marker\":{\"colorbar\":{\"outlinewidth\":0,\"ticks\":\"\"}}}],\"carpet\":[{\"aaxis\":{\"endlinecolor\":\"#2a3f5f\",\"gridcolor\":\"white\",\"linecolor\":\"white\",\"minorgridcolor\":\"white\",\"startlinecolor\":\"#2a3f5f\"},\"baxis\":{\"endlinecolor\":\"#2a3f5f\",\"gridcolor\":\"white\",\"linecolor\":\"white\",\"minorgridcolor\":\"white\",\"startlinecolor\":\"#2a3f5f\"},\"type\":\"carpet\"}],\"table\":[{\"cells\":{\"fill\":{\"color\":\"#EBF0F8\"},\"line\":{\"color\":\"white\"}},\"header\":{\"fill\":{\"color\":\"#C8D4E3\"},\"line\":{\"color\":\"white\"}},\"type\":\"table\"}],\"barpolar\":[{\"marker\":{\"line\":{\"color\":\"#E5ECF6\",\"width\":0.5},\"pattern\":{\"fillmode\":\"overlay\",\"size\":10,\"solidity\":0.2}},\"type\":\"barpolar\"}],\"pie\":[{\"automargin\":true,\"type\":\"pie\"}]},\"layout\":{\"autotypenumbers\":\"strict\",\"colorway\":[\"#636efa\",\"#EF553B\",\"#00cc96\",\"#ab63fa\",\"#FFA15A\",\"#19d3f3\",\"#FF6692\",\"#B6E880\",\"#FF97FF\",\"#FECB52\"],\"font\":{\"color\":\"#2a3f5f\"},\"hovermode\":\"closest\",\"hoverlabel\":{\"align\":\"left\"},\"paper_bgcolor\":\"white\",\"plot_bgcolor\":\"#E5ECF6\",\"polar\":{\"bgcolor\":\"#E5ECF6\",\"angularaxis\":{\"gridcolor\":\"white\",\"linecolor\":\"white\",\"ticks\":\"\"},\"radialaxis\":{\"gridcolor\":\"white\",\"linecolor\":\"white\",\"ticks\":\"\"}},\"ternary\":{\"bgcolor\":\"#E5ECF6\",\"aaxis\":{\"gridcolor\":\"white\",\"linecolor\":\"white\",\"ticks\":\"\"},\"baxis\":{\"gridcolor\":\"white\",\"linecolor\":\"white\",\"ticks\":\"\"},\"caxis\":{\"gridcolor\":\"white\",\"linecolor\":\"white\",\"ticks\":\"\"}},\"coloraxis\":{\"colorbar\":{\"outlinewidth\":0,\"ticks\":\"\"}},\"colorscale\":{\"sequential\":[[0.0,\"#0d0887\"],[0.1111111111111111,\"#46039f\"],[0.2222222222222222,\"#7201a8\"],[0.3333333333333333,\"#9c179e\"],[0.4444444444444444,\"#bd3786\"],[0.5555555555555556,\"#d8576b\"],[0.6666666666666666,\"#ed7953\"],[0.7777777777777778,\"#fb9f3a\"],[0.8888888888888888,\"#fdca26\"],[1.0,\"#f0f921\"]],\"sequentialminus\":[[0.0,\"#0d0887\"],[0.1111111111111111,\"#46039f\"],[0.2222222222222222,\"#7201a8\"],[0.3333333333333333,\"#9c179e\"],[0.4444444444444444,\"#bd3786\"],[0.5555555555555556,\"#d8576b\"],[0.6666666666666666,\"#ed7953\"],[0.7777777777777778,\"#fb9f3a\"],[0.8888888888888888,\"#fdca26\"],[1.0,\"#f0f921\"]],\"diverging\":[[0,\"#8e0152\"],[0.1,\"#c51b7d\"],[0.2,\"#de77ae\"],[0.3,\"#f1b6da\"],[0.4,\"#fde0ef\"],[0.5,\"#f7f7f7\"],[0.6,\"#e6f5d0\"],[0.7,\"#b8e186\"],[0.8,\"#7fbc41\"],[0.9,\"#4d9221\"],[1,\"#276419\"]]},\"xaxis\":{\"gridcolor\":\"white\",\"linecolor\":\"white\",\"ticks\":\"\",\"title\":{\"standoff\":15},\"zerolinecolor\":\"white\",\"automargin\":true,\"zerolinewidth\":2},\"yaxis\":{\"gridcolor\":\"white\",\"linecolor\":\"white\",\"ticks\":\"\",\"title\":{\"standoff\":15},\"zerolinecolor\":\"white\",\"automargin\":true,\"zerolinewidth\":2},\"scene\":{\"xaxis\":{\"backgroundcolor\":\"#E5ECF6\",\"gridcolor\":\"white\",\"linecolor\":\"white\",\"showbackground\":true,\"ticks\":\"\",\"zerolinecolor\":\"white\",\"gridwidth\":2},\"yaxis\":{\"backgroundcolor\":\"#E5ECF6\",\"gridcolor\":\"white\",\"linecolor\":\"white\",\"showbackground\":true,\"ticks\":\"\",\"zerolinecolor\":\"white\",\"gridwidth\":2},\"zaxis\":{\"backgroundcolor\":\"#E5ECF6\",\"gridcolor\":\"white\",\"linecolor\":\"white\",\"showbackground\":true,\"ticks\":\"\",\"zerolinecolor\":\"white\",\"gridwidth\":2}},\"shapedefaults\":{\"line\":{\"color\":\"#2a3f5f\"}},\"annotationdefaults\":{\"arrowcolor\":\"#2a3f5f\",\"arrowhead\":0,\"arrowwidth\":1},\"geo\":{\"bgcolor\":\"white\",\"landcolor\":\"#E5ECF6\",\"subunitcolor\":\"white\",\"showland\":true,\"showlakes\":true,\"lakecolor\":\"white\"},\"title\":{\"x\":0.05},\"mapbox\":{\"style\":\"light\"}}},\"title\":{\"text\":\"Matriz de Confusão\"}},                        {\"responsive\": true}                    ).then(function(){\n",
              "                            \n",
              "var gd = document.getElementById('546f4de0-13ed-4343-ace6-2694e7cc54fc');\n",
              "var x = new MutationObserver(function (mutations, observer) {{\n",
              "        var display = window.getComputedStyle(gd).display;\n",
              "        if (!display || display === 'none') {{\n",
              "            console.log([gd, 'removed!']);\n",
              "            Plotly.purge(gd);\n",
              "            observer.disconnect();\n",
              "        }}\n",
              "}});\n",
              "\n",
              "// Listen for the removal of the full notebook cells\n",
              "var notebookContainer = gd.closest('#notebook-container');\n",
              "if (notebookContainer) {{\n",
              "    x.observe(notebookContainer, {childList: true});\n",
              "}}\n",
              "\n",
              "// Listen for the clearing of the current output cell\n",
              "var outputEl = gd.closest('.output');\n",
              "if (outputEl) {{\n",
              "    x.observe(outputEl, {childList: true});\n",
              "}}\n",
              "\n",
              "                        })                };                            </script>        </div>\n",
              "</body>\n",
              "</html>"
            ]
          },
          "metadata": {}
        }
      ],
      "source": [
        "# Criar matris de confusão\n",
        "matrix_confusao = confusion_matrix(y_teste,y_predito_melhor)\n",
        "\n",
        "# Transformar em DataFrame para visualização\n",
        "matrix_df = pd.DataFrame(matrix_confusao,\n",
        "                         index=['No_Real: 0', 'Yes_Real: 1'],\n",
        "                         columns=['No_Predito: 0', 'Yes_Predito: 1'])\n",
        "\n",
        "# Criar gráfico usando Plotly\n",
        "fig = ff.create_annotated_heatmap(z=matrix_confusao,\n",
        "                                  x=['Predito: 0', 'Predito: 1'],\n",
        "                                  y=['Real: 0', 'Real: 1'],\n",
        "                                  colorscale='Blues',\n",
        "                                  showscale=True)\n",
        "\n",
        "# Ajustes de layout\n",
        "fig.update_layout(\n",
        "    title='Matriz de Confusão',\n",
        "    xaxis=dict(title='Valores Preditos'),\n",
        "    yaxis=dict(title='Valores Reais'),\n",
        ")\n",
        "\n",
        "fig.show()"
      ]
    },
    {
      "cell_type": "markdown",
      "source": [
        "Resultados:\n",
        "  - 4684 (True Negatives - TN): Casos em que a classe real era No e o modelo previu corretamente como No.\n",
        "  - 1892 (False Positives - FP): Casos em que a classe real era No, mas o modelo previu incorretamente como Yes.\n",
        "  - 536 (False Negatives - FN): Casos em que a classe real era Yes, mas o modelo previu incorretamente como No.\n",
        "  - 1250 (True Positives - TP): Casos em que a classe real era Yes e o modelo previu corretamente como Yes."
      ],
      "metadata": {
        "id": "Z5o7joL0SFed"
      }
    },
    {
      "cell_type": "markdown",
      "metadata": {
        "id": "U0_F1sgNKKIq"
      },
      "source": [
        "# 6. Estágio Sexto - Avaliação\n",
        "\n",
        "O objetivo inicial deste projeto foi classificar estudantes como prováveis vítimas de bullying (\"Yes\") ou não (\"No\") e compreender os padrões que influenciam essa ocorrência. A análise exploratória e o modelo preditivo forneceram insights importantes.\n",
        "\n"
      ]
    },
    {
      "cell_type": "markdown",
      "metadata": {
        "id": "Vs-_HVrH42lH"
      },
      "source": [
        "## 6.1 Análise Exploratória\n",
        "\n",
        "**1.   Perfil dos Estudantes:**\n",
        "- A maioria dos respondentes tem entre 13 e 17 anos, sendo predominantemente estudantes do Ensino Médio.\n",
        "- Cerca de 55% se identificam como meninas, 40% como meninos e 5% como não-binários ou preferem não responder.\n",
        "\n",
        "\n",
        "**2. Relações de Vítimas de Bullying:**\n",
        "- 65% das vítimas relataram conflitos recorrentes com colegas de sala, e 45% apontaram problemas nas redes sociais como as principais fontes de bullying.\n",
        "- A solidão foi associada a um risco maior de ser vítima de bullying, com a maioria dos participantes mencionando ter se sentido sozinha ou negligenciada.\n",
        "\n",
        "**3. Variáveis Relevantes:**\n",
        "- Idade (Age): O coeficiente negativo (-0.1600) sugere que crianças mais velhas têm menor probabilidade de ser vítimas de bullying.\n",
        "- Bullying Fora da Escola (bullied_off_school_Yes): O coeficiente positivo (1.4238) indica que a experiência de bullying fora da escola está fortemente associada ao bullying escolar.\n",
        "- Ciberbullying (cyberbullied_Yes): O coeficiente (0.8105) mostra que o ciberbullying é um forte preditor para o bullying escolar.\n",
        "\n",
        "**4. Outros Padrões:**\n",
        "- Impacto da Solidão: Estudantes que se sentem mais solitários ou que têm menos amigos têm maior probabilidade de sofrer bullying.\n",
        "- Comportamento de Ajuda e Apoio Social: Aqueles com uma rede de apoio forte, como amigos ou família, têm menor risco de ser vítimas de bullying.\n",
        "- Experiências de Violência: O envolvimento em lutas físicas e um histórico de ataques físicos indicam maior vulnerabilidade ao bullying."
      ]
    },
    {
      "cell_type": "markdown",
      "metadata": {
        "id": "wBVsaj5y5fbX"
      },
      "source": [
        "## 6.2 Avaliação do Modelo\n",
        "\n",
        "As métricas utilizadas para avaliar o desempenho do modelo são essenciais para garantir sua eficácia e adequação ao problema. Abaixo estão as métricas aplicadas e suas respectivas análises."
      ]
    },
    {
      "cell_type": "markdown",
      "metadata": {
        "id": "bTkFLAud8SfF"
      },
      "source": [
        "### 1.1 Acurácia\n",
        "\n",
        "A acurácia é uma das métricas mais comuns para avaliar o desempenho de modelos de classificação. Ela calcula a proporção de previsões corretas feitas pelo modelo em relação ao total de previsões realizadas.\n",
        "\n",
        "***Acurácia do modelo: ***70.96%\n",
        "\n",
        "- O modelo está classificando corretamente 70.96% dos casos, o que é uma boa base para o desempenho em um cenário onde as classes estão desbalanceadas. Embora a acurácia forneça uma visão geral do desempenho do modelo, ela pode ser influenciada pelo desbalanceamento entre as classes e, portanto, é importante considerar outras métricas, como precisão, revocação e F1-Score.\n",
        "\n",
        "### 1.2 Precisão, Revocação e F1-Score\n",
        "\n",
        "Além da acurácia, as métricas precisão, revocação e F1-Score são essenciais para avaliar a eficácia do modelo, especialmente quando se trata de classes desbalanceadas. Estas métricas fornecem insights sobre como o modelo lida com a identificação de casos de bullying (classe positiva, 1) e casos não-bullying (classe negativa, 0).\n",
        "\n",
        "***Precisão:*** A precisão é a proporção de casos classificados como bullying que realmente são bullying. Ou seja, quantos dos casos previstos como 1 são realmente positivos.\n",
        "\n",
        "***Precisão (Classe 1): ***39.78%\n",
        "\n",
        "- Quando o modelo prevê que um caso é de bullying, ele está correto apenas 39.78% das vezes. Isso sugere que o modelo tende a gerar muitos falsos positivos (casos previstos como bullying que são, na verdade, não bullying).\n",
        "\n",
        "***Recall (Sensibilidade):***A revocação mede a capacidade do modelo de identificar corretamente os casos de bullying. Em outras palavras, quantos dos casos reais de bullying foram corretamente identificados pelo modelo.\n",
        "\n",
        "**Recall(Classe 1):**69.99%\n",
        "\n",
        "- O modelo consegue identificar corretamente 69.99% dos casos reais de bullying. Isso significa que o modelo é razoavelmente bom em detectar bullying quando ele ocorre, mas ainda perde uma parte significativa dos casos (comete falsos negativos).\n",
        "\n",
        "***F1-Score:*** O F1-Score é a média harmônica entre precisão e revocação, sendo útil para balancear a importância dessas duas métricas quando há um desbalanceamento entre as classes.\n",
        "\n",
        "***F1-Score (Classe 1):*** 50.73%\n",
        "- O F1-Score de 50.73% reflete um compromisso entre precisão e revocação. Este valor sugere que o modelo ainda pode ser melhorado, especialmente em relação à precisão, que afeta diretamente o F1-Score.\n",
        "\n",
        "### 1.3 Matriz de Confusão\n",
        "\n",
        "A matriz de confusão foi utilizada para visualizar o desempenho do modelo, destacando os verdadeiros positivos, verdadeiros negativos, falsos positivos e falsos negativos.\n",
        "\n",
        "**Matriz de Confusão**:  \n",
        "[Inserir visualização da matriz de confusão]\n",
        "\n",
        "A matriz permite analisar os erros do modelo, como o número de casos de bullying classificados como não bullying (falsos negativos), que é um aspecto crítico para a aplicação em ambientes educacionais.\n"
      ]
    },
    {
      "cell_type": "markdown",
      "metadata": {
        "id": "0Drx2xjz5qdF"
      },
      "source": [
        "## 6.3 Limitações Identificadas"
      ]
    },
    {
      "cell_type": "markdown",
      "metadata": {
        "id": "GmEnlKAr5uV6"
      },
      "source": [
        "**1. Dados Ausentes:**\n",
        "\n",
        "- Variáveis: Colunas como \"underweight\", \"overweight\", \"obese\" apresentaram cerca de 36,73% dos dados ausentes.\n",
        "- Imputação: A coluna 'age' foi tratada com a imputação pela mediana, enquanto os dados ausentes na variável-alvo \"bullied_at_school\" foram removidos para garantir a qualidade dos dados.\n",
        "\n",
        "**2. Viés nos Dados:**\n",
        "\n",
        "A amostra pode não representar toda a diversidade da população estudantil, o que limita a generalização dos resultados.\n",
        "\n",
        "**3. Restrições do Modelo:**\n",
        "\n",
        "Modelos simples, como regressão logística, podem ter limitações em capturar relações complexas entre as variáveis."
      ]
    },
    {
      "cell_type": "markdown",
      "metadata": {
        "id": "xdPuMOg86mFA"
      },
      "source": [
        "## 6.4 Validação do Modelo"
      ]
    },
    {
      "cell_type": "markdown",
      "metadata": {
        "id": "5rkWJOsB6ruL"
      },
      "source": [
        "O modelo desenvolvido se alinha de forma eficaz ao problema de negócio, ajudando a identificar padrões acionáveis que podem ser usados para prevenir o bullying. Ele destaca fatores de risco importantes, como o isolamento social e a ocorrência de bullying em outros contextos, oferecendo informações cruciais para a intervenção precoce. Além disso, os insights gerados pelo modelo são claros e compreensíveis para os stakeholders, como professores e psicólogos, permitindo que orientem ações específicas para lidar com o bullying de forma mais eficaz.\n",
        "\n",
        "Em termos de implementação, o modelo pode ser facilmente integrado em plataformas educacionais, proporcionando uma solução prática para o ambiente escolar. Sua interpretabilidade facilita a adoção por profissionais da educação e saúde, que podem utilizar os resultados para tomar decisões informadas e implementar estratégias de apoio para os estudantes em risco."
      ]
    },
    {
      "cell_type": "markdown",
      "metadata": {
        "id": "46Fy0z6z7F_B"
      },
      "source": [
        "## 6.5 Recomendações Futuras\n",
        "\n",
        "**Recomendações Técnicas:**\n",
        "\n",
        "- Testar outros algoritmos de classificação, como Random Forest ou Gradient Boosting.\n",
        "- Explorar técnicas de imputação avançadas para lidar com dados ausentes.\n",
        "\n",
        "\n",
        "**Recomendações Práticas:**\n",
        "- Desenvolver dashboards interativos para visualizar padrões de bullying e segmentar por variáveis como idade, gênero e tipo de bullying.\n",
        "- Oferecer treinamentos para professores e psicólogos sobre como interpretar os resultados e agir com base nas previsões do modelo.\n",
        "\n"
      ]
    }
  ],
  "metadata": {
    "colab": {
      "provenance": [],
      "toc_visible": true
    },
    "kernelspec": {
      "display_name": "Python 3",
      "language": "python",
      "name": "python3"
    },
    "language_info": {
      "codemirror_mode": {
        "name": "ipython",
        "version": 3
      },
      "file_extension": ".py",
      "mimetype": "text/x-python",
      "name": "python",
      "nbconvert_exporter": "python",
      "pygments_lexer": "ipython3",
      "version": "3.6.4"
    }
  },
  "nbformat": 4,
  "nbformat_minor": 0
}